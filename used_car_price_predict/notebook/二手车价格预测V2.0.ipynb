{
 "cells": [
  {
   "cell_type": "markdown",
   "metadata": {},
   "source": [
    "# 阿里云天池\n",
    "\n",
    "## 二手车价格预测\n",
    "\n",
    "* 版本2. 日期：2020年12月25日"
   ]
  },
  {
   "cell_type": "markdown",
   "metadata": {},
   "source": [
    "### 0. 导入库"
   ]
  },
  {
   "cell_type": "code",
   "execution_count": null,
   "metadata": {},
   "outputs": [],
   "source": [
    "# 基础库\n",
    "import numpy as np\n",
    "import pandas as pd\n",
    "import matplotlib.pyplot as plt\n",
    "import seaborn as sns\n",
    "\n",
    "\n",
    "# 建模调参用的库\n",
    "from sklearn.model_selection import GridSearchCV, cross_val_score  \n",
    "from sklearn.ensemble import RandomForestRegressor, GradientBoostingRegressor\n",
    "from xgboost import XGBRegressor\n",
    "from sklearn.metrics import mean_absolute_error\n",
    "\n",
    "# 其他操作的库\n",
    "# 去除warnings显示\n",
    "import warnings\n",
    "warnings.filterwarnings('ignore')\n",
    "# 看大家都在用，我也不知道是干什么的，可能是直接作图用的吧\n",
    "%matplotlib inline\n",
    "# 处理时间\n",
    "from datetime import datetime\n",
    "# 取消最大列显示限制\n",
    "pd.options.display.max_columns = None "
   ]
  },
  {
   "cell_type": "markdown",
   "metadata": {},
   "source": [
    "### 1. 导入数据"
   ]
  },
  {
   "cell_type": "code",
   "execution_count": 2,
   "metadata": {},
   "outputs": [
    {
     "data": {
      "text/plain": [
       "(150000, 31)"
      ]
     },
     "execution_count": 2,
     "metadata": {},
     "output_type": "execute_result"
    }
   ],
   "source": [
    "train = pd.read_csv('./input/used_car_train_20200313.csv', sep = ' ')\n",
    "train.shape"
   ]
  },
  {
   "cell_type": "code",
   "execution_count": 3,
   "metadata": {},
   "outputs": [
    {
     "data": {
      "text/plain": [
       "(50000, 29)"
      ]
     },
     "execution_count": 3,
     "metadata": {},
     "output_type": "execute_result"
    }
   ],
   "source": [
    "testB_full = pd.read_csv('./input/used_car_testB_20200421.csv', sep=' ')\n",
    "# 提交的时候需要用到testB的SaleID，但是SaleID在预测的时候是不用的，所以保存一份testB_full\n",
    "testB = testB_full.drop(['SaleID'], axis=1)\n",
    "testB.shape"
   ]
  },
  {
   "cell_type": "markdown",
   "metadata": {},
   "source": [
    "### 2. 简单数据处理及分析"
   ]
  },
  {
   "cell_type": "markdown",
   "metadata": {},
   "source": [
    "#### 2.1 查看数据内容"
   ]
  },
  {
   "cell_type": "code",
   "execution_count": 4,
   "metadata": {},
   "outputs": [
    {
     "data": {
      "text/html": [
       "<div>\n",
       "<style scoped>\n",
       "    .dataframe tbody tr th:only-of-type {\n",
       "        vertical-align: middle;\n",
       "    }\n",
       "\n",
       "    .dataframe tbody tr th {\n",
       "        vertical-align: top;\n",
       "    }\n",
       "\n",
       "    .dataframe thead th {\n",
       "        text-align: right;\n",
       "    }\n",
       "</style>\n",
       "<table border=\"1\" class=\"dataframe\">\n",
       "  <thead>\n",
       "    <tr style=\"text-align: right;\">\n",
       "      <th></th>\n",
       "      <th>SaleID</th>\n",
       "      <th>name</th>\n",
       "      <th>regDate</th>\n",
       "      <th>model</th>\n",
       "      <th>brand</th>\n",
       "      <th>bodyType</th>\n",
       "      <th>fuelType</th>\n",
       "      <th>gearbox</th>\n",
       "      <th>power</th>\n",
       "      <th>kilometer</th>\n",
       "      <th>notRepairedDamage</th>\n",
       "      <th>regionCode</th>\n",
       "      <th>seller</th>\n",
       "      <th>offerType</th>\n",
       "      <th>creatDate</th>\n",
       "      <th>price</th>\n",
       "      <th>v_0</th>\n",
       "      <th>v_1</th>\n",
       "      <th>v_2</th>\n",
       "      <th>v_3</th>\n",
       "      <th>v_4</th>\n",
       "      <th>v_5</th>\n",
       "      <th>v_6</th>\n",
       "      <th>v_7</th>\n",
       "      <th>v_8</th>\n",
       "      <th>v_9</th>\n",
       "      <th>v_10</th>\n",
       "      <th>v_11</th>\n",
       "      <th>v_12</th>\n",
       "      <th>v_13</th>\n",
       "      <th>v_14</th>\n",
       "    </tr>\n",
       "  </thead>\n",
       "  <tbody>\n",
       "    <tr>\n",
       "      <th>0</th>\n",
       "      <td>0</td>\n",
       "      <td>736</td>\n",
       "      <td>20040402</td>\n",
       "      <td>30.0</td>\n",
       "      <td>6</td>\n",
       "      <td>1.0</td>\n",
       "      <td>0.0</td>\n",
       "      <td>0.0</td>\n",
       "      <td>60</td>\n",
       "      <td>12.5</td>\n",
       "      <td>0.0</td>\n",
       "      <td>1046</td>\n",
       "      <td>0</td>\n",
       "      <td>0</td>\n",
       "      <td>20160404</td>\n",
       "      <td>1850</td>\n",
       "      <td>43.357796</td>\n",
       "      <td>3.966344</td>\n",
       "      <td>0.050257</td>\n",
       "      <td>2.159744</td>\n",
       "      <td>1.143786</td>\n",
       "      <td>0.235676</td>\n",
       "      <td>0.101988</td>\n",
       "      <td>0.129549</td>\n",
       "      <td>0.022816</td>\n",
       "      <td>0.097462</td>\n",
       "      <td>-2.881803</td>\n",
       "      <td>2.804097</td>\n",
       "      <td>-2.420821</td>\n",
       "      <td>0.795292</td>\n",
       "      <td>0.914762</td>\n",
       "    </tr>\n",
       "    <tr>\n",
       "      <th>1</th>\n",
       "      <td>1</td>\n",
       "      <td>2262</td>\n",
       "      <td>20030301</td>\n",
       "      <td>40.0</td>\n",
       "      <td>1</td>\n",
       "      <td>2.0</td>\n",
       "      <td>0.0</td>\n",
       "      <td>0.0</td>\n",
       "      <td>0</td>\n",
       "      <td>15.0</td>\n",
       "      <td>-</td>\n",
       "      <td>4366</td>\n",
       "      <td>0</td>\n",
       "      <td>0</td>\n",
       "      <td>20160309</td>\n",
       "      <td>3600</td>\n",
       "      <td>45.305273</td>\n",
       "      <td>5.236112</td>\n",
       "      <td>0.137925</td>\n",
       "      <td>1.380657</td>\n",
       "      <td>-1.422165</td>\n",
       "      <td>0.264777</td>\n",
       "      <td>0.121004</td>\n",
       "      <td>0.135731</td>\n",
       "      <td>0.026597</td>\n",
       "      <td>0.020582</td>\n",
       "      <td>-4.900482</td>\n",
       "      <td>2.096338</td>\n",
       "      <td>-1.030483</td>\n",
       "      <td>-1.722674</td>\n",
       "      <td>0.245522</td>\n",
       "    </tr>\n",
       "    <tr>\n",
       "      <th>2</th>\n",
       "      <td>2</td>\n",
       "      <td>14874</td>\n",
       "      <td>20040403</td>\n",
       "      <td>115.0</td>\n",
       "      <td>15</td>\n",
       "      <td>1.0</td>\n",
       "      <td>0.0</td>\n",
       "      <td>0.0</td>\n",
       "      <td>163</td>\n",
       "      <td>12.5</td>\n",
       "      <td>0.0</td>\n",
       "      <td>2806</td>\n",
       "      <td>0</td>\n",
       "      <td>0</td>\n",
       "      <td>20160402</td>\n",
       "      <td>6222</td>\n",
       "      <td>45.978359</td>\n",
       "      <td>4.823792</td>\n",
       "      <td>1.319524</td>\n",
       "      <td>-0.998467</td>\n",
       "      <td>-0.996911</td>\n",
       "      <td>0.251410</td>\n",
       "      <td>0.114912</td>\n",
       "      <td>0.165147</td>\n",
       "      <td>0.062173</td>\n",
       "      <td>0.027075</td>\n",
       "      <td>-4.846749</td>\n",
       "      <td>1.803559</td>\n",
       "      <td>1.565330</td>\n",
       "      <td>-0.832687</td>\n",
       "      <td>-0.229963</td>\n",
       "    </tr>\n",
       "    <tr>\n",
       "      <th>3</th>\n",
       "      <td>3</td>\n",
       "      <td>71865</td>\n",
       "      <td>19960908</td>\n",
       "      <td>109.0</td>\n",
       "      <td>10</td>\n",
       "      <td>0.0</td>\n",
       "      <td>0.0</td>\n",
       "      <td>1.0</td>\n",
       "      <td>193</td>\n",
       "      <td>15.0</td>\n",
       "      <td>0.0</td>\n",
       "      <td>434</td>\n",
       "      <td>0</td>\n",
       "      <td>0</td>\n",
       "      <td>20160312</td>\n",
       "      <td>2400</td>\n",
       "      <td>45.687478</td>\n",
       "      <td>4.492574</td>\n",
       "      <td>-0.050616</td>\n",
       "      <td>0.883600</td>\n",
       "      <td>-2.228079</td>\n",
       "      <td>0.274293</td>\n",
       "      <td>0.110300</td>\n",
       "      <td>0.121964</td>\n",
       "      <td>0.033395</td>\n",
       "      <td>0.000000</td>\n",
       "      <td>-4.509599</td>\n",
       "      <td>1.285940</td>\n",
       "      <td>-0.501868</td>\n",
       "      <td>-2.438353</td>\n",
       "      <td>-0.478699</td>\n",
       "    </tr>\n",
       "    <tr>\n",
       "      <th>4</th>\n",
       "      <td>4</td>\n",
       "      <td>111080</td>\n",
       "      <td>20120103</td>\n",
       "      <td>110.0</td>\n",
       "      <td>5</td>\n",
       "      <td>1.0</td>\n",
       "      <td>0.0</td>\n",
       "      <td>0.0</td>\n",
       "      <td>68</td>\n",
       "      <td>5.0</td>\n",
       "      <td>0.0</td>\n",
       "      <td>6977</td>\n",
       "      <td>0</td>\n",
       "      <td>0</td>\n",
       "      <td>20160313</td>\n",
       "      <td>5200</td>\n",
       "      <td>44.383511</td>\n",
       "      <td>2.031433</td>\n",
       "      <td>0.572169</td>\n",
       "      <td>-1.571239</td>\n",
       "      <td>2.246088</td>\n",
       "      <td>0.228036</td>\n",
       "      <td>0.073205</td>\n",
       "      <td>0.091880</td>\n",
       "      <td>0.078819</td>\n",
       "      <td>0.121534</td>\n",
       "      <td>-1.896240</td>\n",
       "      <td>0.910783</td>\n",
       "      <td>0.931110</td>\n",
       "      <td>2.834518</td>\n",
       "      <td>1.923482</td>\n",
       "    </tr>\n",
       "  </tbody>\n",
       "</table>\n",
       "</div>"
      ],
      "text/plain": [
       "   SaleID    name   regDate  model  brand  bodyType  fuelType  gearbox  power  \\\n",
       "0       0     736  20040402   30.0      6       1.0       0.0      0.0     60   \n",
       "1       1    2262  20030301   40.0      1       2.0       0.0      0.0      0   \n",
       "2       2   14874  20040403  115.0     15       1.0       0.0      0.0    163   \n",
       "3       3   71865  19960908  109.0     10       0.0       0.0      1.0    193   \n",
       "4       4  111080  20120103  110.0      5       1.0       0.0      0.0     68   \n",
       "\n",
       "   kilometer notRepairedDamage  regionCode  seller  offerType  creatDate  \\\n",
       "0       12.5               0.0        1046       0          0   20160404   \n",
       "1       15.0                 -        4366       0          0   20160309   \n",
       "2       12.5               0.0        2806       0          0   20160402   \n",
       "3       15.0               0.0         434       0          0   20160312   \n",
       "4        5.0               0.0        6977       0          0   20160313   \n",
       "\n",
       "   price        v_0       v_1       v_2       v_3       v_4       v_5  \\\n",
       "0   1850  43.357796  3.966344  0.050257  2.159744  1.143786  0.235676   \n",
       "1   3600  45.305273  5.236112  0.137925  1.380657 -1.422165  0.264777   \n",
       "2   6222  45.978359  4.823792  1.319524 -0.998467 -0.996911  0.251410   \n",
       "3   2400  45.687478  4.492574 -0.050616  0.883600 -2.228079  0.274293   \n",
       "4   5200  44.383511  2.031433  0.572169 -1.571239  2.246088  0.228036   \n",
       "\n",
       "        v_6       v_7       v_8       v_9      v_10      v_11      v_12  \\\n",
       "0  0.101988  0.129549  0.022816  0.097462 -2.881803  2.804097 -2.420821   \n",
       "1  0.121004  0.135731  0.026597  0.020582 -4.900482  2.096338 -1.030483   \n",
       "2  0.114912  0.165147  0.062173  0.027075 -4.846749  1.803559  1.565330   \n",
       "3  0.110300  0.121964  0.033395  0.000000 -4.509599  1.285940 -0.501868   \n",
       "4  0.073205  0.091880  0.078819  0.121534 -1.896240  0.910783  0.931110   \n",
       "\n",
       "       v_13      v_14  \n",
       "0  0.795292  0.914762  \n",
       "1 -1.722674  0.245522  \n",
       "2 -0.832687 -0.229963  \n",
       "3 -2.438353 -0.478699  \n",
       "4  2.834518  1.923482  "
      ]
     },
     "execution_count": 4,
     "metadata": {},
     "output_type": "execute_result"
    }
   ],
   "source": [
    "train.head()"
   ]
  },
  {
   "cell_type": "code",
   "execution_count": 5,
   "metadata": {},
   "outputs": [
    {
     "data": {
      "text/html": [
       "<div>\n",
       "<style scoped>\n",
       "    .dataframe tbody tr th:only-of-type {\n",
       "        vertical-align: middle;\n",
       "    }\n",
       "\n",
       "    .dataframe tbody tr th {\n",
       "        vertical-align: top;\n",
       "    }\n",
       "\n",
       "    .dataframe thead th {\n",
       "        text-align: right;\n",
       "    }\n",
       "</style>\n",
       "<table border=\"1\" class=\"dataframe\">\n",
       "  <thead>\n",
       "    <tr style=\"text-align: right;\">\n",
       "      <th></th>\n",
       "      <th>SaleID</th>\n",
       "      <th>name</th>\n",
       "      <th>regDate</th>\n",
       "      <th>model</th>\n",
       "      <th>brand</th>\n",
       "      <th>bodyType</th>\n",
       "      <th>fuelType</th>\n",
       "      <th>gearbox</th>\n",
       "      <th>power</th>\n",
       "      <th>kilometer</th>\n",
       "      <th>regionCode</th>\n",
       "      <th>seller</th>\n",
       "      <th>offerType</th>\n",
       "      <th>creatDate</th>\n",
       "      <th>price</th>\n",
       "      <th>v_0</th>\n",
       "      <th>v_1</th>\n",
       "      <th>v_2</th>\n",
       "      <th>v_3</th>\n",
       "      <th>v_4</th>\n",
       "      <th>v_5</th>\n",
       "      <th>v_6</th>\n",
       "      <th>v_7</th>\n",
       "      <th>v_8</th>\n",
       "      <th>v_9</th>\n",
       "      <th>v_10</th>\n",
       "      <th>v_11</th>\n",
       "      <th>v_12</th>\n",
       "      <th>v_13</th>\n",
       "      <th>v_14</th>\n",
       "    </tr>\n",
       "  </thead>\n",
       "  <tbody>\n",
       "    <tr>\n",
       "      <th>count</th>\n",
       "      <td>150000.000000</td>\n",
       "      <td>150000.000000</td>\n",
       "      <td>1.500000e+05</td>\n",
       "      <td>149999.000000</td>\n",
       "      <td>150000.000000</td>\n",
       "      <td>145494.000000</td>\n",
       "      <td>141320.000000</td>\n",
       "      <td>144019.000000</td>\n",
       "      <td>150000.000000</td>\n",
       "      <td>150000.000000</td>\n",
       "      <td>150000.000000</td>\n",
       "      <td>150000.000000</td>\n",
       "      <td>150000.0</td>\n",
       "      <td>1.500000e+05</td>\n",
       "      <td>150000.000000</td>\n",
       "      <td>150000.000000</td>\n",
       "      <td>150000.000000</td>\n",
       "      <td>150000.000000</td>\n",
       "      <td>150000.000000</td>\n",
       "      <td>150000.000000</td>\n",
       "      <td>150000.000000</td>\n",
       "      <td>150000.000000</td>\n",
       "      <td>150000.000000</td>\n",
       "      <td>150000.000000</td>\n",
       "      <td>150000.000000</td>\n",
       "      <td>150000.000000</td>\n",
       "      <td>150000.000000</td>\n",
       "      <td>150000.000000</td>\n",
       "      <td>150000.000000</td>\n",
       "      <td>150000.000000</td>\n",
       "    </tr>\n",
       "    <tr>\n",
       "      <th>mean</th>\n",
       "      <td>74999.500000</td>\n",
       "      <td>68349.172873</td>\n",
       "      <td>2.003417e+07</td>\n",
       "      <td>47.129021</td>\n",
       "      <td>8.052733</td>\n",
       "      <td>1.792369</td>\n",
       "      <td>0.375842</td>\n",
       "      <td>0.224943</td>\n",
       "      <td>119.316547</td>\n",
       "      <td>12.597160</td>\n",
       "      <td>2583.077267</td>\n",
       "      <td>0.000007</td>\n",
       "      <td>0.0</td>\n",
       "      <td>2.016033e+07</td>\n",
       "      <td>5923.327333</td>\n",
       "      <td>44.406268</td>\n",
       "      <td>-0.044809</td>\n",
       "      <td>0.080765</td>\n",
       "      <td>0.078833</td>\n",
       "      <td>0.017875</td>\n",
       "      <td>0.248204</td>\n",
       "      <td>0.044923</td>\n",
       "      <td>0.124692</td>\n",
       "      <td>0.058144</td>\n",
       "      <td>0.061996</td>\n",
       "      <td>-0.001000</td>\n",
       "      <td>0.009035</td>\n",
       "      <td>0.004813</td>\n",
       "      <td>0.000313</td>\n",
       "      <td>-0.000688</td>\n",
       "    </tr>\n",
       "    <tr>\n",
       "      <th>std</th>\n",
       "      <td>43301.414527</td>\n",
       "      <td>61103.875095</td>\n",
       "      <td>5.364988e+04</td>\n",
       "      <td>49.536040</td>\n",
       "      <td>7.864956</td>\n",
       "      <td>1.760640</td>\n",
       "      <td>0.548677</td>\n",
       "      <td>0.417546</td>\n",
       "      <td>177.168419</td>\n",
       "      <td>3.919576</td>\n",
       "      <td>1885.363218</td>\n",
       "      <td>0.002582</td>\n",
       "      <td>0.0</td>\n",
       "      <td>1.067328e+02</td>\n",
       "      <td>7501.998477</td>\n",
       "      <td>2.457548</td>\n",
       "      <td>3.641893</td>\n",
       "      <td>2.929618</td>\n",
       "      <td>2.026514</td>\n",
       "      <td>1.193661</td>\n",
       "      <td>0.045804</td>\n",
       "      <td>0.051743</td>\n",
       "      <td>0.201410</td>\n",
       "      <td>0.029186</td>\n",
       "      <td>0.035692</td>\n",
       "      <td>3.772386</td>\n",
       "      <td>3.286071</td>\n",
       "      <td>2.517478</td>\n",
       "      <td>1.288988</td>\n",
       "      <td>1.038685</td>\n",
       "    </tr>\n",
       "    <tr>\n",
       "      <th>min</th>\n",
       "      <td>0.000000</td>\n",
       "      <td>0.000000</td>\n",
       "      <td>1.991000e+07</td>\n",
       "      <td>0.000000</td>\n",
       "      <td>0.000000</td>\n",
       "      <td>0.000000</td>\n",
       "      <td>0.000000</td>\n",
       "      <td>0.000000</td>\n",
       "      <td>0.000000</td>\n",
       "      <td>0.500000</td>\n",
       "      <td>0.000000</td>\n",
       "      <td>0.000000</td>\n",
       "      <td>0.0</td>\n",
       "      <td>2.015062e+07</td>\n",
       "      <td>11.000000</td>\n",
       "      <td>30.451976</td>\n",
       "      <td>-4.295589</td>\n",
       "      <td>-4.470671</td>\n",
       "      <td>-7.275037</td>\n",
       "      <td>-4.364565</td>\n",
       "      <td>0.000000</td>\n",
       "      <td>0.000000</td>\n",
       "      <td>0.000000</td>\n",
       "      <td>0.000000</td>\n",
       "      <td>0.000000</td>\n",
       "      <td>-9.168192</td>\n",
       "      <td>-5.558207</td>\n",
       "      <td>-9.639552</td>\n",
       "      <td>-4.153899</td>\n",
       "      <td>-6.546556</td>\n",
       "    </tr>\n",
       "    <tr>\n",
       "      <th>25%</th>\n",
       "      <td>37499.750000</td>\n",
       "      <td>11156.000000</td>\n",
       "      <td>1.999091e+07</td>\n",
       "      <td>10.000000</td>\n",
       "      <td>1.000000</td>\n",
       "      <td>0.000000</td>\n",
       "      <td>0.000000</td>\n",
       "      <td>0.000000</td>\n",
       "      <td>75.000000</td>\n",
       "      <td>12.500000</td>\n",
       "      <td>1018.000000</td>\n",
       "      <td>0.000000</td>\n",
       "      <td>0.0</td>\n",
       "      <td>2.016031e+07</td>\n",
       "      <td>1300.000000</td>\n",
       "      <td>43.135799</td>\n",
       "      <td>-3.192349</td>\n",
       "      <td>-0.970671</td>\n",
       "      <td>-1.462580</td>\n",
       "      <td>-0.921191</td>\n",
       "      <td>0.243615</td>\n",
       "      <td>0.000038</td>\n",
       "      <td>0.062474</td>\n",
       "      <td>0.035334</td>\n",
       "      <td>0.033930</td>\n",
       "      <td>-3.722303</td>\n",
       "      <td>-1.951543</td>\n",
       "      <td>-1.871846</td>\n",
       "      <td>-1.057789</td>\n",
       "      <td>-0.437034</td>\n",
       "    </tr>\n",
       "    <tr>\n",
       "      <th>50%</th>\n",
       "      <td>74999.500000</td>\n",
       "      <td>51638.000000</td>\n",
       "      <td>2.003091e+07</td>\n",
       "      <td>30.000000</td>\n",
       "      <td>6.000000</td>\n",
       "      <td>1.000000</td>\n",
       "      <td>0.000000</td>\n",
       "      <td>0.000000</td>\n",
       "      <td>110.000000</td>\n",
       "      <td>15.000000</td>\n",
       "      <td>2196.000000</td>\n",
       "      <td>0.000000</td>\n",
       "      <td>0.0</td>\n",
       "      <td>2.016032e+07</td>\n",
       "      <td>3250.000000</td>\n",
       "      <td>44.610266</td>\n",
       "      <td>-3.052671</td>\n",
       "      <td>-0.382947</td>\n",
       "      <td>0.099722</td>\n",
       "      <td>-0.075910</td>\n",
       "      <td>0.257798</td>\n",
       "      <td>0.000812</td>\n",
       "      <td>0.095866</td>\n",
       "      <td>0.057014</td>\n",
       "      <td>0.058484</td>\n",
       "      <td>1.624076</td>\n",
       "      <td>-0.358053</td>\n",
       "      <td>-0.130753</td>\n",
       "      <td>-0.036245</td>\n",
       "      <td>0.141246</td>\n",
       "    </tr>\n",
       "    <tr>\n",
       "      <th>75%</th>\n",
       "      <td>112499.250000</td>\n",
       "      <td>118841.250000</td>\n",
       "      <td>2.007111e+07</td>\n",
       "      <td>66.000000</td>\n",
       "      <td>13.000000</td>\n",
       "      <td>3.000000</td>\n",
       "      <td>1.000000</td>\n",
       "      <td>0.000000</td>\n",
       "      <td>150.000000</td>\n",
       "      <td>15.000000</td>\n",
       "      <td>3843.000000</td>\n",
       "      <td>0.000000</td>\n",
       "      <td>0.0</td>\n",
       "      <td>2.016033e+07</td>\n",
       "      <td>7700.000000</td>\n",
       "      <td>46.004721</td>\n",
       "      <td>4.000670</td>\n",
       "      <td>0.241335</td>\n",
       "      <td>1.565838</td>\n",
       "      <td>0.868758</td>\n",
       "      <td>0.265297</td>\n",
       "      <td>0.102009</td>\n",
       "      <td>0.125243</td>\n",
       "      <td>0.079382</td>\n",
       "      <td>0.087491</td>\n",
       "      <td>2.844357</td>\n",
       "      <td>1.255022</td>\n",
       "      <td>1.776933</td>\n",
       "      <td>0.942813</td>\n",
       "      <td>0.680378</td>\n",
       "    </tr>\n",
       "    <tr>\n",
       "      <th>max</th>\n",
       "      <td>149999.000000</td>\n",
       "      <td>196812.000000</td>\n",
       "      <td>2.015121e+07</td>\n",
       "      <td>247.000000</td>\n",
       "      <td>39.000000</td>\n",
       "      <td>7.000000</td>\n",
       "      <td>6.000000</td>\n",
       "      <td>1.000000</td>\n",
       "      <td>19312.000000</td>\n",
       "      <td>15.000000</td>\n",
       "      <td>8120.000000</td>\n",
       "      <td>1.000000</td>\n",
       "      <td>0.0</td>\n",
       "      <td>2.016041e+07</td>\n",
       "      <td>99999.000000</td>\n",
       "      <td>52.304178</td>\n",
       "      <td>7.320308</td>\n",
       "      <td>19.035496</td>\n",
       "      <td>9.854702</td>\n",
       "      <td>6.829352</td>\n",
       "      <td>0.291838</td>\n",
       "      <td>0.151420</td>\n",
       "      <td>1.404936</td>\n",
       "      <td>0.160791</td>\n",
       "      <td>0.222787</td>\n",
       "      <td>12.357011</td>\n",
       "      <td>18.819042</td>\n",
       "      <td>13.847792</td>\n",
       "      <td>11.147669</td>\n",
       "      <td>8.658418</td>\n",
       "    </tr>\n",
       "  </tbody>\n",
       "</table>\n",
       "</div>"
      ],
      "text/plain": [
       "              SaleID           name       regDate          model  \\\n",
       "count  150000.000000  150000.000000  1.500000e+05  149999.000000   \n",
       "mean    74999.500000   68349.172873  2.003417e+07      47.129021   \n",
       "std     43301.414527   61103.875095  5.364988e+04      49.536040   \n",
       "min         0.000000       0.000000  1.991000e+07       0.000000   \n",
       "25%     37499.750000   11156.000000  1.999091e+07      10.000000   \n",
       "50%     74999.500000   51638.000000  2.003091e+07      30.000000   \n",
       "75%    112499.250000  118841.250000  2.007111e+07      66.000000   \n",
       "max    149999.000000  196812.000000  2.015121e+07     247.000000   \n",
       "\n",
       "               brand       bodyType       fuelType        gearbox  \\\n",
       "count  150000.000000  145494.000000  141320.000000  144019.000000   \n",
       "mean        8.052733       1.792369       0.375842       0.224943   \n",
       "std         7.864956       1.760640       0.548677       0.417546   \n",
       "min         0.000000       0.000000       0.000000       0.000000   \n",
       "25%         1.000000       0.000000       0.000000       0.000000   \n",
       "50%         6.000000       1.000000       0.000000       0.000000   \n",
       "75%        13.000000       3.000000       1.000000       0.000000   \n",
       "max        39.000000       7.000000       6.000000       1.000000   \n",
       "\n",
       "               power      kilometer     regionCode         seller  offerType  \\\n",
       "count  150000.000000  150000.000000  150000.000000  150000.000000   150000.0   \n",
       "mean      119.316547      12.597160    2583.077267       0.000007        0.0   \n",
       "std       177.168419       3.919576    1885.363218       0.002582        0.0   \n",
       "min         0.000000       0.500000       0.000000       0.000000        0.0   \n",
       "25%        75.000000      12.500000    1018.000000       0.000000        0.0   \n",
       "50%       110.000000      15.000000    2196.000000       0.000000        0.0   \n",
       "75%       150.000000      15.000000    3843.000000       0.000000        0.0   \n",
       "max     19312.000000      15.000000    8120.000000       1.000000        0.0   \n",
       "\n",
       "          creatDate          price            v_0            v_1  \\\n",
       "count  1.500000e+05  150000.000000  150000.000000  150000.000000   \n",
       "mean   2.016033e+07    5923.327333      44.406268      -0.044809   \n",
       "std    1.067328e+02    7501.998477       2.457548       3.641893   \n",
       "min    2.015062e+07      11.000000      30.451976      -4.295589   \n",
       "25%    2.016031e+07    1300.000000      43.135799      -3.192349   \n",
       "50%    2.016032e+07    3250.000000      44.610266      -3.052671   \n",
       "75%    2.016033e+07    7700.000000      46.004721       4.000670   \n",
       "max    2.016041e+07   99999.000000      52.304178       7.320308   \n",
       "\n",
       "                 v_2            v_3            v_4            v_5  \\\n",
       "count  150000.000000  150000.000000  150000.000000  150000.000000   \n",
       "mean        0.080765       0.078833       0.017875       0.248204   \n",
       "std         2.929618       2.026514       1.193661       0.045804   \n",
       "min        -4.470671      -7.275037      -4.364565       0.000000   \n",
       "25%        -0.970671      -1.462580      -0.921191       0.243615   \n",
       "50%        -0.382947       0.099722      -0.075910       0.257798   \n",
       "75%         0.241335       1.565838       0.868758       0.265297   \n",
       "max        19.035496       9.854702       6.829352       0.291838   \n",
       "\n",
       "                 v_6            v_7            v_8            v_9  \\\n",
       "count  150000.000000  150000.000000  150000.000000  150000.000000   \n",
       "mean        0.044923       0.124692       0.058144       0.061996   \n",
       "std         0.051743       0.201410       0.029186       0.035692   \n",
       "min         0.000000       0.000000       0.000000       0.000000   \n",
       "25%         0.000038       0.062474       0.035334       0.033930   \n",
       "50%         0.000812       0.095866       0.057014       0.058484   \n",
       "75%         0.102009       0.125243       0.079382       0.087491   \n",
       "max         0.151420       1.404936       0.160791       0.222787   \n",
       "\n",
       "                v_10           v_11           v_12           v_13  \\\n",
       "count  150000.000000  150000.000000  150000.000000  150000.000000   \n",
       "mean       -0.001000       0.009035       0.004813       0.000313   \n",
       "std         3.772386       3.286071       2.517478       1.288988   \n",
       "min        -9.168192      -5.558207      -9.639552      -4.153899   \n",
       "25%        -3.722303      -1.951543      -1.871846      -1.057789   \n",
       "50%         1.624076      -0.358053      -0.130753      -0.036245   \n",
       "75%         2.844357       1.255022       1.776933       0.942813   \n",
       "max        12.357011      18.819042      13.847792      11.147669   \n",
       "\n",
       "                v_14  \n",
       "count  150000.000000  \n",
       "mean       -0.000688  \n",
       "std         1.038685  \n",
       "min        -6.546556  \n",
       "25%        -0.437034  \n",
       "50%         0.141246  \n",
       "75%         0.680378  \n",
       "max         8.658418  "
      ]
     },
     "execution_count": 5,
     "metadata": {},
     "output_type": "execute_result"
    }
   ],
   "source": [
    "train.describe()"
   ]
  },
  {
   "cell_type": "code",
   "execution_count": 6,
   "metadata": {},
   "outputs": [
    {
     "name": "stdout",
     "output_type": "stream",
     "text": [
      "<class 'pandas.core.frame.DataFrame'>\n",
      "RangeIndex: 150000 entries, 0 to 149999\n",
      "Data columns (total 31 columns):\n",
      " #   Column             Non-Null Count   Dtype  \n",
      "---  ------             --------------   -----  \n",
      " 0   SaleID             150000 non-null  int64  \n",
      " 1   name               150000 non-null  int64  \n",
      " 2   regDate            150000 non-null  int64  \n",
      " 3   model              149999 non-null  float64\n",
      " 4   brand              150000 non-null  int64  \n",
      " 5   bodyType           145494 non-null  float64\n",
      " 6   fuelType           141320 non-null  float64\n",
      " 7   gearbox            144019 non-null  float64\n",
      " 8   power              150000 non-null  int64  \n",
      " 9   kilometer          150000 non-null  float64\n",
      " 10  notRepairedDamage  150000 non-null  object \n",
      " 11  regionCode         150000 non-null  int64  \n",
      " 12  seller             150000 non-null  int64  \n",
      " 13  offerType          150000 non-null  int64  \n",
      " 14  creatDate          150000 non-null  int64  \n",
      " 15  price              150000 non-null  int64  \n",
      " 16  v_0                150000 non-null  float64\n",
      " 17  v_1                150000 non-null  float64\n",
      " 18  v_2                150000 non-null  float64\n",
      " 19  v_3                150000 non-null  float64\n",
      " 20  v_4                150000 non-null  float64\n",
      " 21  v_5                150000 non-null  float64\n",
      " 22  v_6                150000 non-null  float64\n",
      " 23  v_7                150000 non-null  float64\n",
      " 24  v_8                150000 non-null  float64\n",
      " 25  v_9                150000 non-null  float64\n",
      " 26  v_10               150000 non-null  float64\n",
      " 27  v_11               150000 non-null  float64\n",
      " 28  v_12               150000 non-null  float64\n",
      " 29  v_13               150000 non-null  float64\n",
      " 30  v_14               150000 non-null  float64\n",
      "dtypes: float64(20), int64(10), object(1)\n",
      "memory usage: 35.5+ MB\n"
     ]
    }
   ],
   "source": [
    "# 发现notRepairedDamage类型是object，后面需要转换成float64\n",
    "train.info()"
   ]
  },
  {
   "cell_type": "markdown",
   "metadata": {},
   "source": [
    "#### 2.2 缺失值处理"
   ]
  },
  {
   "cell_type": "code",
   "execution_count": 7,
   "metadata": {
    "scrolled": true
   },
   "outputs": [
    {
     "data": {
      "text/plain": [
       "model          1\n",
       "bodyType    4506\n",
       "fuelType    8680\n",
       "gearbox     5981\n",
       "dtype: int64"
      ]
     },
     "execution_count": 7,
     "metadata": {},
     "output_type": "execute_result"
    }
   ],
   "source": [
    "# train缺失值查看\n",
    "train.isnull().sum()[train.isnull().sum() > 0]"
   ]
  },
  {
   "cell_type": "code",
   "execution_count": 8,
   "metadata": {},
   "outputs": [
    {
     "data": {
      "text/plain": [
       "bodyType    1504\n",
       "fuelType    2924\n",
       "gearbox     1968\n",
       "dtype: int64"
      ]
     },
     "execution_count": 8,
     "metadata": {},
     "output_type": "execute_result"
    }
   ],
   "source": [
    "# test 缺失值查看\n",
    "testB.isnull().sum()[testB.isnull().sum() > 0]"
   ]
  },
  {
   "cell_type": "markdown",
   "metadata": {},
   "source": [
    "粗略一看可以看出train有model、bodyType、fuelType和gearbox这4个特征有缺失值，且model只有1个缺失值观测。\n",
    "而testB则有bodyType、fuelType和gearbox这3个特征有缺失值。\n",
    "接下来先处理model缺失值，剩下的在接下来的特征深入分析后来处理。"
   ]
  },
  {
   "cell_type": "markdown",
   "metadata": {},
   "source": [
    "*model缺失值处理*"
   ]
  },
  {
   "cell_type": "markdown",
   "metadata": {},
   "source": [
    "从别人处得到思路，相同车型model一般具有相同的brand、bodyType、gearbox、power和fuelType，我们在训练集中查找和缺失model观测上述5个特征一致的model作为缺失值的替换项。"
   ]
  },
  {
   "cell_type": "code",
   "execution_count": 9,
   "metadata": {},
   "outputs": [
    {
     "data": {
      "text/html": [
       "<div>\n",
       "<style scoped>\n",
       "    .dataframe tbody tr th:only-of-type {\n",
       "        vertical-align: middle;\n",
       "    }\n",
       "\n",
       "    .dataframe tbody tr th {\n",
       "        vertical-align: top;\n",
       "    }\n",
       "\n",
       "    .dataframe thead th {\n",
       "        text-align: right;\n",
       "    }\n",
       "</style>\n",
       "<table border=\"1\" class=\"dataframe\">\n",
       "  <thead>\n",
       "    <tr style=\"text-align: right;\">\n",
       "      <th></th>\n",
       "      <th>SaleID</th>\n",
       "      <th>name</th>\n",
       "      <th>regDate</th>\n",
       "      <th>model</th>\n",
       "      <th>brand</th>\n",
       "      <th>bodyType</th>\n",
       "      <th>fuelType</th>\n",
       "      <th>gearbox</th>\n",
       "      <th>power</th>\n",
       "      <th>kilometer</th>\n",
       "      <th>notRepairedDamage</th>\n",
       "      <th>regionCode</th>\n",
       "      <th>seller</th>\n",
       "      <th>offerType</th>\n",
       "      <th>creatDate</th>\n",
       "      <th>price</th>\n",
       "      <th>v_0</th>\n",
       "      <th>v_1</th>\n",
       "      <th>v_2</th>\n",
       "      <th>v_3</th>\n",
       "      <th>v_4</th>\n",
       "      <th>v_5</th>\n",
       "      <th>v_6</th>\n",
       "      <th>v_7</th>\n",
       "      <th>v_8</th>\n",
       "      <th>v_9</th>\n",
       "      <th>v_10</th>\n",
       "      <th>v_11</th>\n",
       "      <th>v_12</th>\n",
       "      <th>v_13</th>\n",
       "      <th>v_14</th>\n",
       "    </tr>\n",
       "  </thead>\n",
       "  <tbody>\n",
       "    <tr>\n",
       "      <th>38424</th>\n",
       "      <td>38424</td>\n",
       "      <td>148730</td>\n",
       "      <td>20150809</td>\n",
       "      <td>NaN</td>\n",
       "      <td>37</td>\n",
       "      <td>6.0</td>\n",
       "      <td>1.0</td>\n",
       "      <td>1.0</td>\n",
       "      <td>190</td>\n",
       "      <td>2.0</td>\n",
       "      <td>0.0</td>\n",
       "      <td>1425</td>\n",
       "      <td>0</td>\n",
       "      <td>0</td>\n",
       "      <td>20160320</td>\n",
       "      <td>47950</td>\n",
       "      <td>41.139365</td>\n",
       "      <td>-2.167089</td>\n",
       "      <td>-3.436008</td>\n",
       "      <td>-7.275037</td>\n",
       "      <td>6.829352</td>\n",
       "      <td>0.181562</td>\n",
       "      <td>0.002092</td>\n",
       "      <td>0.0</td>\n",
       "      <td>0.148487</td>\n",
       "      <td>0.222787</td>\n",
       "      <td>1.6757</td>\n",
       "      <td>-3.25056</td>\n",
       "      <td>0.876001</td>\n",
       "      <td>11.147669</td>\n",
       "      <td>8.658418</td>\n",
       "    </tr>\n",
       "  </tbody>\n",
       "</table>\n",
       "</div>"
      ],
      "text/plain": [
       "       SaleID    name   regDate  model  brand  bodyType  fuelType  gearbox  \\\n",
       "38424   38424  148730  20150809    NaN     37       6.0       1.0      1.0   \n",
       "\n",
       "       power  kilometer notRepairedDamage  regionCode  seller  offerType  \\\n",
       "38424    190        2.0               0.0        1425       0          0   \n",
       "\n",
       "       creatDate  price        v_0       v_1       v_2       v_3       v_4  \\\n",
       "38424   20160320  47950  41.139365 -2.167089 -3.436008 -7.275037  6.829352   \n",
       "\n",
       "            v_5       v_6  v_7       v_8       v_9    v_10     v_11      v_12  \\\n",
       "38424  0.181562  0.002092  0.0  0.148487  0.222787  1.6757 -3.25056  0.876001   \n",
       "\n",
       "            v_13      v_14  \n",
       "38424  11.147669  8.658418  "
      ]
     },
     "execution_count": 9,
     "metadata": {},
     "output_type": "execute_result"
    }
   ],
   "source": [
    "# 查看model缺失值的观测\n",
    "train[train['model'].isnull()]"
   ]
  },
  {
   "cell_type": "code",
   "execution_count": 10,
   "metadata": {},
   "outputs": [
    {
     "data": {
      "text/plain": [
       "157.0    17\n",
       "199.0    16\n",
       "202.0     8\n",
       "200.0     1\n",
       "Name: model, dtype: int64"
      ]
     },
     "execution_count": 10,
     "metadata": {},
     "output_type": "execute_result"
    }
   ],
   "source": [
    "# 匹配brand是37、bodtType是6.0、gearbox是1.0、power是190且fuelTYpe是1.0的观测\n",
    "train[(train['brand'] == 37) & \n",
    "      (train['bodyType'] == 6.0) & \n",
    "      (train['gearbox'] == 1.0) & \n",
    "      (train['power'] == 190) &\n",
    "      (train['fuelType'] == 1.0)]['model'].value_counts()"
   ]
  },
  {
   "cell_type": "code",
   "execution_count": 11,
   "metadata": {},
   "outputs": [],
   "source": [
    "# 157号model出现的次数最多，我们用157来替换\n",
    "train.loc[38424, 'model'] = 157"
   ]
  },
  {
   "cell_type": "markdown",
   "metadata": {},
   "source": [
    "#### 2.3 特征深入处理"
   ]
  },
  {
   "cell_type": "markdown",
   "metadata": {},
   "source": [
    "按照个人的想法查看一些比较重要的特征，并且做图，可能会发现一些异常值或者离群点，值得关注的有以下特征：\n",
    "* regDate：汽车注册日期\n",
    "* creatDate：汽车开始出售时间\n",
    "* model：车型\n",
    "* brand：品牌\n",
    "* bodyType：车身类型\n",
    "* fuelType：燃油类型\n",
    "* gearbox：变速箱\n",
    "* power：发动机功率\n",
    "* kilometer：汽车已行驶公里\n",
    "* notRepairedDamage：是否有未修复的损坏\n",
    "* regionCode：地区编码\n",
    "* seller：销售方\n",
    "* offerType：报价类型\n",
    "* v0 - v14 ：15个匿名特征"
   ]
  },
  {
   "cell_type": "markdown",
   "metadata": {},
   "source": [
    "##### 2.3.1 regDate和creatDate\n",
    "单独看regDate可能并没有什么意义，但是和creatDate结合在一起可能就有意想不到的收获，汽车的开始出售时间减去汽车的注册时间就是我们买二手车最重要的考虑点：车龄。\n",
    "\n",
    "一般情况下，新车前几年的二手车售价随着车龄的增加下降的明显，随后随着车龄的增加，二手车售价的降低会变慢。总体来说车龄和二手车售价呈负相关。\n",
    "\n",
    "此外我们还需要注意一下是否存在开始出售时间比注册时间还要早的情况，这种情况表明某个观测存在一些错误，不可以被采用。"
   ]
  },
  {
   "cell_type": "markdown",
   "metadata": {},
   "source": [
    " regDate中的月份位有很多00这种错误的月份格式，可以用如下代码查看：\n",
    ">train[(train['regDate']/100).astype('int64')%100 == 0]\n",
    "\n",
    "发现有11347个观测有这种错误，这个数量相对于原始的15万观测不是一个小数据，我开始以为可能是1月的错误表示，但我发现这些错误的年份中仍然有12月出现，所以这些可能是某个系统错误。\n",
    " \n",
    "解决的办法有两个，一个是直接删除，但是这样我们就损失了10%的训练数据；还有一个是给这些错误的月份加上6，指定为该年年中购买。\n"
   ]
  },
  {
   "cell_type": "code",
   "execution_count": 12,
   "metadata": {},
   "outputs": [],
   "source": [
    "# 创建将regDate和creatDate转为时间的处理方法\n",
    "def to_date(x):\n",
    "    year = int(str(x)[:4])\n",
    "    month = int(str(x)[4:6])\n",
    "    day = int(str(x)[6:8])\n",
    "    \n",
    "    if month == 0:\n",
    "        month = 6\n",
    "        \n",
    "    date = datetime(year, month, day)\n",
    "    return date"
   ]
  },
  {
   "cell_type": "code",
   "execution_count": 13,
   "metadata": {},
   "outputs": [],
   "source": [
    "# train转换regDate和creatDate\n",
    "train['regDate'] = train['regDate'].apply(to_date)\n",
    "train['creatDate'] = train['creatDate'].apply(to_date)\n",
    "\n",
    "# 新建特征age\n",
    "train['age'] = (train['creatDate'] - train['regDate']).dt.days"
   ]
  },
  {
   "cell_type": "code",
   "execution_count": 14,
   "metadata": {
    "scrolled": true
   },
   "outputs": [
    {
     "data": {
      "text/html": [
       "<div>\n",
       "<style scoped>\n",
       "    .dataframe tbody tr th:only-of-type {\n",
       "        vertical-align: middle;\n",
       "    }\n",
       "\n",
       "    .dataframe tbody tr th {\n",
       "        vertical-align: top;\n",
       "    }\n",
       "\n",
       "    .dataframe thead th {\n",
       "        text-align: right;\n",
       "    }\n",
       "</style>\n",
       "<table border=\"1\" class=\"dataframe\">\n",
       "  <thead>\n",
       "    <tr style=\"text-align: right;\">\n",
       "      <th></th>\n",
       "      <th>SaleID</th>\n",
       "      <th>name</th>\n",
       "      <th>regDate</th>\n",
       "      <th>model</th>\n",
       "      <th>brand</th>\n",
       "      <th>bodyType</th>\n",
       "      <th>fuelType</th>\n",
       "      <th>gearbox</th>\n",
       "      <th>power</th>\n",
       "      <th>kilometer</th>\n",
       "      <th>notRepairedDamage</th>\n",
       "      <th>regionCode</th>\n",
       "      <th>seller</th>\n",
       "      <th>offerType</th>\n",
       "      <th>creatDate</th>\n",
       "      <th>price</th>\n",
       "      <th>v_0</th>\n",
       "      <th>v_1</th>\n",
       "      <th>v_2</th>\n",
       "      <th>v_3</th>\n",
       "      <th>v_4</th>\n",
       "      <th>v_5</th>\n",
       "      <th>v_6</th>\n",
       "      <th>v_7</th>\n",
       "      <th>v_8</th>\n",
       "      <th>v_9</th>\n",
       "      <th>v_10</th>\n",
       "      <th>v_11</th>\n",
       "      <th>v_12</th>\n",
       "      <th>v_13</th>\n",
       "      <th>v_14</th>\n",
       "      <th>age</th>\n",
       "    </tr>\n",
       "  </thead>\n",
       "  <tbody>\n",
       "  </tbody>\n",
       "</table>\n",
       "</div>"
      ],
      "text/plain": [
       "Empty DataFrame\n",
       "Columns: [SaleID, name, regDate, model, brand, bodyType, fuelType, gearbox, power, kilometer, notRepairedDamage, regionCode, seller, offerType, creatDate, price, v_0, v_1, v_2, v_3, v_4, v_5, v_6, v_7, v_8, v_9, v_10, v_11, v_12, v_13, v_14, age]\n",
       "Index: []"
      ]
     },
     "execution_count": 14,
     "metadata": {},
     "output_type": "execute_result"
    }
   ],
   "source": [
    "# 检查train是否有age为负数的情况，发现没有这类错误。\n",
    "train[train['age'] < 0]"
   ]
  },
  {
   "cell_type": "code",
   "execution_count": 15,
   "metadata": {},
   "outputs": [],
   "source": [
    "# testB转换regDate和creatDate\n",
    "testB['regDate'] = testB['regDate'].apply(to_date)\n",
    "testB['creatDate'] = testB['creatDate'].apply(to_date)\n",
    "\n",
    "# 新建特征age\n",
    "testB['age'] = (testB['creatDate'] - testB['regDate']).dt.days"
   ]
  },
  {
   "cell_type": "code",
   "execution_count": 16,
   "metadata": {},
   "outputs": [
    {
     "data": {
      "text/html": [
       "<div>\n",
       "<style scoped>\n",
       "    .dataframe tbody tr th:only-of-type {\n",
       "        vertical-align: middle;\n",
       "    }\n",
       "\n",
       "    .dataframe tbody tr th {\n",
       "        vertical-align: top;\n",
       "    }\n",
       "\n",
       "    .dataframe thead th {\n",
       "        text-align: right;\n",
       "    }\n",
       "</style>\n",
       "<table border=\"1\" class=\"dataframe\">\n",
       "  <thead>\n",
       "    <tr style=\"text-align: right;\">\n",
       "      <th></th>\n",
       "      <th>name</th>\n",
       "      <th>regDate</th>\n",
       "      <th>model</th>\n",
       "      <th>brand</th>\n",
       "      <th>bodyType</th>\n",
       "      <th>fuelType</th>\n",
       "      <th>gearbox</th>\n",
       "      <th>power</th>\n",
       "      <th>kilometer</th>\n",
       "      <th>notRepairedDamage</th>\n",
       "      <th>regionCode</th>\n",
       "      <th>seller</th>\n",
       "      <th>offerType</th>\n",
       "      <th>creatDate</th>\n",
       "      <th>v_0</th>\n",
       "      <th>v_1</th>\n",
       "      <th>v_2</th>\n",
       "      <th>v_3</th>\n",
       "      <th>v_4</th>\n",
       "      <th>v_5</th>\n",
       "      <th>v_6</th>\n",
       "      <th>v_7</th>\n",
       "      <th>v_8</th>\n",
       "      <th>v_9</th>\n",
       "      <th>v_10</th>\n",
       "      <th>v_11</th>\n",
       "      <th>v_12</th>\n",
       "      <th>v_13</th>\n",
       "      <th>v_14</th>\n",
       "      <th>age</th>\n",
       "    </tr>\n",
       "  </thead>\n",
       "  <tbody>\n",
       "  </tbody>\n",
       "</table>\n",
       "</div>"
      ],
      "text/plain": [
       "Empty DataFrame\n",
       "Columns: [name, regDate, model, brand, bodyType, fuelType, gearbox, power, kilometer, notRepairedDamage, regionCode, seller, offerType, creatDate, v_0, v_1, v_2, v_3, v_4, v_5, v_6, v_7, v_8, v_9, v_10, v_11, v_12, v_13, v_14, age]\n",
       "Index: []"
      ]
     },
     "execution_count": 16,
     "metadata": {},
     "output_type": "execute_result"
    }
   ],
   "source": [
    "# 检查testB是否有age为负数的情况，发现没有这类错误。\n",
    "testB[testB['age'] < 0]"
   ]
  },
  {
   "cell_type": "code",
   "execution_count": 17,
   "metadata": {},
   "outputs": [
    {
     "data": {
      "text/plain": [
       "Text(0.5, 1.0, 'Figure1: age distribution')"
      ]
     },
     "execution_count": 17,
     "metadata": {},
     "output_type": "execute_result"
    },
    {
     "data": {
      "image/png": "[encoded data removed]",
      "text/plain": [
       "<Figure size 1080x720 with 1 Axes>"
      ]
     },
     "metadata": {
      "needs_background": "light"
     },
     "output_type": "display_data"
    }
   ],
   "source": [
    "# 查看age的分布情况\n",
    "plt.figure(figsize = (15,10))\n",
    "sns.histplot(data = train, x = train['age']).set_title('Figure1: age distribution')"
   ]
  },
  {
   "cell_type": "markdown",
   "metadata": {},
   "source": [
    "age的分布符合正态，无需处理。"
   ]
  },
  {
   "cell_type": "markdown",
   "metadata": {},
   "source": [
    "##### 2.3.2 model\n",
    "model。车型编码。"
   ]
  },
  {
   "cell_type": "code",
   "execution_count": 18,
   "metadata": {},
   "outputs": [
    {
     "data": {
      "text/plain": [
       "0.0      11762\n",
       "19.0      9573\n",
       "4.0       8445\n",
       "1.0       6038\n",
       "29.0      5186\n",
       "         ...  \n",
       "245.0        2\n",
       "209.0        2\n",
       "240.0        2\n",
       "242.0        2\n",
       "247.0        1\n",
       "Name: model, Length: 248, dtype: int64"
      ]
     },
     "execution_count": 18,
     "metadata": {},
     "output_type": "execute_result"
    }
   ],
   "source": [
    "# 快速查看分布\n",
    "train['model'].value_counts()"
   ]
  },
  {
   "cell_type": "code",
   "execution_count": 19,
   "metadata": {
    "scrolled": false
   },
   "outputs": [
    {
     "data": {
      "text/plain": [
       "Text(0.5, 1.0, 'Figure2: model distribution')"
      ]
     },
     "execution_count": 19,
     "metadata": {},
     "output_type": "execute_result"
    },
    {
     "data": {
      "image/png": "[encoded data removed]",
      "text/plain": [
       "<Figure size 1080x720 with 1 Axes>"
      ]
     },
     "metadata": {
      "needs_background": "light"
     },
     "output_type": "display_data"
    }
   ],
   "source": [
    "# 查看下特征model分布\n",
    "plt.figure(figsize = (15,10))\n",
    "sns.histplot(data = train, x = train['model'],bins = 50).set_title('Figure2: model distribution')"
   ]
  },
  {
   "cell_type": "markdown",
   "metadata": {},
   "source": [
    "因为model特征已经被脱敏，所以我们看不出其他信息，只能通过直方图看出图形右偏，而且model数字小的车型会更加多一些。"
   ]
  },
  {
   "cell_type": "markdown",
   "metadata": {},
   "source": [
    "##### 2.3.3 brand\n",
    "汽车品牌"
   ]
  },
  {
   "cell_type": "code",
   "execution_count": 20,
   "metadata": {},
   "outputs": [
    {
     "data": {
      "text/plain": [
       "0     31480\n",
       "4     16737\n",
       "14    16089\n",
       "10    14249\n",
       "1     13794\n",
       "6     10217\n",
       "9      7306\n",
       "5      4665\n",
       "13     3817\n",
       "11     2945\n",
       "3      2461\n",
       "7      2361\n",
       "16     2223\n",
       "8      2077\n",
       "25     2064\n",
       "27     2053\n",
       "21     1547\n",
       "15     1458\n",
       "19     1388\n",
       "20     1236\n",
       "12     1109\n",
       "22     1085\n",
       "26      966\n",
       "30      940\n",
       "17      913\n",
       "24      772\n",
       "28      649\n",
       "32      592\n",
       "29      406\n",
       "37      333\n",
       "2       321\n",
       "31      318\n",
       "18      316\n",
       "36      228\n",
       "34      227\n",
       "33      218\n",
       "23      186\n",
       "35      180\n",
       "38       65\n",
       "39        9\n",
       "Name: brand, dtype: int64"
      ]
     },
     "execution_count": 20,
     "metadata": {},
     "output_type": "execute_result"
    }
   ],
   "source": [
    "# 快速查看分布\n",
    "train['brand'].value_counts()"
   ]
  },
  {
   "cell_type": "code",
   "execution_count": 21,
   "metadata": {
    "scrolled": false
   },
   "outputs": [
    {
     "data": {
      "text/plain": [
       "Text(0.5, 1.0, 'Figure3: brand distribution')"
      ]
     },
     "execution_count": 21,
     "metadata": {},
     "output_type": "execute_result"
    },
    {
     "data": {
      "image/png": "[encoded data removed]",
      "text/plain": [
       "<Figure size 1080x720 with 1 Axes>"
      ]
     },
     "metadata": {
      "needs_background": "light"
     },
     "output_type": "display_data"
    }
   ],
   "source": [
    "# 查看特征brand分布\n",
    "plt.figure(figsize = (15,10))\n",
    "sns.countplot(x = train['brand']).set_title('Figure3: brand distribution')"
   ]
  },
  {
   "cell_type": "markdown",
   "metadata": {},
   "source": [
    "因为brand品牌已经被脱敏，所以只能从分布图上看出，品牌0，1，4，6，10和14比较多，其他品牌比较少。"
   ]
  },
  {
   "cell_type": "markdown",
   "metadata": {},
   "source": [
    "##### 2.3.4 bodyType\n",
    "车身类型\n",
    "0. 豪华轿车\n",
    "1. 微型车\n",
    "2. 箱型车\n",
    "3. 大巴车\n",
    "4. 敞篷车\n",
    "5. 双门汽车\n",
    "6. 商务车\n",
    "7. 搅拌车"
   ]
  },
  {
   "cell_type": "code",
   "execution_count": 22,
   "metadata": {},
   "outputs": [
    {
     "data": {
      "text/plain": [
       "0.0    41420\n",
       "1.0    35272\n",
       "2.0    30324\n",
       "3.0    13491\n",
       "4.0     9609\n",
       "5.0     7607\n",
       "6.0     6482\n",
       "7.0     1289\n",
       "Name: bodyType, dtype: int64"
      ]
     },
     "execution_count": 22,
     "metadata": {},
     "output_type": "execute_result"
    }
   ],
   "source": [
    "# 快速查看分布\n",
    "train['bodyType'].value_counts()"
   ]
  },
  {
   "cell_type": "code",
   "execution_count": 23,
   "metadata": {},
   "outputs": [
    {
     "data": {
      "text/plain": [
       "Text(0.5, 1.0, 'Figure4: bodyType distribution')"
      ]
     },
     "execution_count": 23,
     "metadata": {},
     "output_type": "execute_result"
    },
    {
     "data": {
      "image/png": "[encoded data removed]",
      "text/plain": [
       "<Figure size 1080x720 with 1 Axes>"
      ]
     },
     "metadata": {
      "needs_background": "light"
     },
     "output_type": "display_data"
    }
   ],
   "source": [
    "plt.figure(figsize = (15,10))\n",
    "sns.countplot(x = train['bodyType']).set_title('Figure4: bodyType distribution')"
   ]
  },
  {
   "cell_type": "markdown",
   "metadata": {},
   "source": [
    "通过上图可以看出，最主要的车辆类型是豪华轿车、微型车和箱型车，其他的车辆较少。"
   ]
  },
  {
   "cell_type": "markdown",
   "metadata": {},
   "source": [
    "在2.2缺失值处理部分中我们发现bodyTYpe是有缺失值的，查看缺失值的数量。我们应用数量最多的豪华轿车0.0来替换缺失值。"
   ]
  },
  {
   "cell_type": "code",
   "execution_count": 24,
   "metadata": {},
   "outputs": [],
   "source": [
    "# 替换缺失值\n",
    "train.loc[:, 'bodyType'] = train['bodyType'].map(lambda x: 0.0 if pd.isnull(x) else x)\n",
    "testB.loc[:, 'bodyType'] = testB['bodyType'].map(lambda x: 0.0 if pd.isnull(x) else x)"
   ]
  },
  {
   "cell_type": "markdown",
   "metadata": {},
   "source": [
    "##### 2.3.5 fuelType\n",
    "fuelType。燃油类型。\n",
    "0. 汽油\n",
    "1. 柴油\n",
    "2. 液化石油气\n",
    "3. 天然气\n",
    "4. 混合动力\n",
    "5. 其他\n",
    "6. 电动"
   ]
  },
  {
   "cell_type": "code",
   "execution_count": 25,
   "metadata": {
    "scrolled": true
   },
   "outputs": [
    {
     "data": {
      "text/plain": [
       "0.0    91656\n",
       "1.0    46991\n",
       "2.0     2212\n",
       "3.0      262\n",
       "4.0      118\n",
       "5.0       45\n",
       "6.0       36\n",
       "Name: fuelType, dtype: int64"
      ]
     },
     "execution_count": 25,
     "metadata": {},
     "output_type": "execute_result"
    }
   ],
   "source": [
    "# 快速查看分布\n",
    "train['fuelType'].value_counts()"
   ]
  },
  {
   "cell_type": "code",
   "execution_count": 26,
   "metadata": {},
   "outputs": [
    {
     "data": {
      "text/plain": [
       "Text(0.5, 1.0, 'Figure5: fuelType distribution')"
      ]
     },
     "execution_count": 26,
     "metadata": {},
     "output_type": "execute_result"
    },
    {
     "data": {
      "image/png": "[encoded data removed]",
      "text/plain": [
       "<Figure size 1080x720 with 1 Axes>"
      ]
     },
     "metadata": {
      "needs_background": "light"
     },
     "output_type": "display_data"
    }
   ],
   "source": [
    "# 查看特征fuelType分布\n",
    "plt.figure(figsize = (15,10))\n",
    "sns.countplot(x = train['fuelType']).set_title('Figure5: fuelType distribution')"
   ]
  },
  {
   "cell_type": "markdown",
   "metadata": {},
   "source": [
    "从上图中可以发现，最多的燃油类型是汽油和柴油，其他的燃油类型非常的少。分布很不均匀。"
   ]
  },
  {
   "cell_type": "markdown",
   "metadata": {},
   "source": [
    "接下来处理fuelType的缺失值。\n",
    "\n",
    "一般来说豪华轿车大多是汽油车，而搅拌车这种很多都是柴油车。所以燃油类型有缺失的值可以参考其相同类型车的燃油类型来做替换。\n",
    "具体操作就是我们来求出每一类车fuelType的众数，然后填充给相应的bodyType的缺失值。"
   ]
  },
  {
   "cell_type": "code",
   "execution_count": 27,
   "metadata": {},
   "outputs": [],
   "source": [
    "# 创建字典，保存不同bodyType下， fuelType的众数，并以此填充fuelTyp的缺失值\n",
    "dict_bodyType_train, dict_bodyType_testB = {}, {}\n",
    "for i in [0.0, 1.0, 2.0, 3.0, 4.0, 5.0, 6.0, 7.0]:\n",
    "    dict_bodyType_train[i] = train[train['bodyType'] == i]['fuelType'].mode()[0]\n",
    "    dict_bodyType_testB[i] = testB[testB['bodyType'] == i]['fuelType'].mode()[0]"
   ]
  },
  {
   "cell_type": "code",
   "execution_count": 28,
   "metadata": {
    "scrolled": true
   },
   "outputs": [
    {
     "data": {
      "text/plain": [
       "{0.0: 0.0,\n",
       " 1.0: 0.0,\n",
       " 2.0: 1.0,\n",
       " 3.0: 1.0,\n",
       " 4.0: 0.0,\n",
       " 5.0: 0.0,\n",
       " 6.0: 1.0,\n",
       " 7.0: 1.0}"
      ]
     },
     "execution_count": 28,
     "metadata": {},
     "output_type": "execute_result"
    }
   ],
   "source": [
    "dict_bodyType_train"
   ]
  },
  {
   "cell_type": "code",
   "execution_count": 29,
   "metadata": {},
   "outputs": [
    {
     "data": {
      "text/plain": [
       "{0.0: 0.0,\n",
       " 1.0: 0.0,\n",
       " 2.0: 1.0,\n",
       " 3.0: 1.0,\n",
       " 4.0: 0.0,\n",
       " 5.0: 0.0,\n",
       " 6.0: 1.0,\n",
       " 7.0: 1.0}"
      ]
     },
     "execution_count": 29,
     "metadata": {},
     "output_type": "execute_result"
    }
   ],
   "source": [
    "dict_bodyType_testB"
   ]
  },
  {
   "cell_type": "markdown",
   "metadata": {},
   "source": [
    "train和testB数据集的结果一致。"
   ]
  },
  {
   "cell_type": "code",
   "execution_count": 30,
   "metadata": {},
   "outputs": [],
   "source": [
    "# 开始填充fuelType缺失值\n",
    "# 在含fuelType缺失值的条目中，将不同bodyType对应的index输出保存到一个字典中\n",
    "dict_index_train, dict_index_testB = {}, {}\n",
    "# 分别保存不同bodyType缺失值的index\n",
    "for bodytype in [0.0, 1.0, 2.0, 3.0, 4.0, 5.0, 6.0, 7.0]:\n",
    "    dict_index_train[bodytype] = train[(train['bodyType'] == bodytype) & (train['fuelType'].isnull())].index.tolist()\n",
    "    dict_index_testB[bodytype] = testB[(testB['bodyType'] == bodytype) & (testB['fuelType'].isnull())].index.tolist()"
   ]
  },
  {
   "cell_type": "code",
   "execution_count": 31,
   "metadata": {},
   "outputs": [],
   "source": [
    "# 分别对每个bodyTYpe所对应的index来填充fuelType列\n",
    "for bt, ft in dict_bodyType_train.items():\n",
    "    train.loc[dict_index_train[bt], 'fuelType'] = ft  \n",
    "    testB.loc[dict_index_testB[bt], 'fuelType'] = ft"
   ]
  },
  {
   "cell_type": "markdown",
   "metadata": {},
   "source": [
    "##### 2.3.6 gearbox\n",
    "gearbox。变速箱\n",
    "变速箱主要有两种，分别是手动挡和自动挡。\n",
    "0. 手动挡\n",
    "1. 自动挡"
   ]
  },
  {
   "cell_type": "code",
   "execution_count": 32,
   "metadata": {
    "scrolled": false
   },
   "outputs": [
    {
     "data": {
      "text/plain": [
       "0.0    111623\n",
       "1.0     32396\n",
       "Name: gearbox, dtype: int64"
      ]
     },
     "execution_count": 32,
     "metadata": {},
     "output_type": "execute_result"
    }
   ],
   "source": [
    "# 快速查看分布\n",
    "train['gearbox'].value_counts()"
   ]
  },
  {
   "cell_type": "code",
   "execution_count": 33,
   "metadata": {},
   "outputs": [
    {
     "data": {
      "text/plain": [
       "Text(0.5, 1.0, 'Figure6: gearbox distribution')"
      ]
     },
     "execution_count": 33,
     "metadata": {},
     "output_type": "execute_result"
    },
    {
     "data": {
      "image/png": "[encoded data removed]",
      "text/plain": [
       "<Figure size 1080x720 with 1 Axes>"
      ]
     },
     "metadata": {
      "needs_background": "light"
     },
     "output_type": "display_data"
    }
   ],
   "source": [
    "# 查看特征gearbox的分布\n",
    "plt.figure(figsize = (15,10))\n",
    "sns.countplot(x = train['gearbox']).set_title('Figure6: gearbox distribution')"
   ]
  },
  {
   "cell_type": "markdown",
   "metadata": {},
   "source": [
    "由上图可以看出手动挡要比自动档要多很多。"
   ]
  },
  {
   "cell_type": "markdown",
   "metadata": {},
   "source": [
    "接下来处理gearbox的缺失值。因为手动挡要多得多，所以直接以手动挡0.0替换缺失值。"
   ]
  },
  {
   "cell_type": "code",
   "execution_count": 34,
   "metadata": {},
   "outputs": [],
   "source": [
    "# 都用0手动挡来替换缺失值\n",
    "train.loc[:, 'gearbox'] = train['gearbox'].map(lambda x: 0.0 if pd.isnull(x) else x)\n",
    "testB.loc[:, 'gearbox'] = testB['gearbox'].map(lambda x: 0.0 if pd.isnull(x) else x)"
   ]
  },
  {
   "cell_type": "markdown",
   "metadata": {},
   "source": [
    "##### 2.3.7 power\n",
    "power。发动机功率，马力。一般来说越大越好,马力和价格呈正相关。"
   ]
  },
  {
   "cell_type": "code",
   "execution_count": 35,
   "metadata": {
    "scrolled": true
   },
   "outputs": [
    {
     "data": {
      "text/plain": [
       "count    150000.000000\n",
       "mean        119.316547\n",
       "std         177.168419\n",
       "min           0.000000\n",
       "25%          75.000000\n",
       "50%         110.000000\n",
       "75%         150.000000\n",
       "max       19312.000000\n",
       "Name: power, dtype: float64"
      ]
     },
     "execution_count": 35,
     "metadata": {},
     "output_type": "execute_result"
    }
   ],
   "source": [
    "# 首先查看下power的分布\n",
    "train['power'].describe()"
   ]
  },
  {
   "cell_type": "markdown",
   "metadata": {},
   "source": [
    "在power的统计信息中，我们发现两个问题。\n",
    "1. power的最大值为19312，这个数值远远超过了给定的power范围（0到600），这些值应该是因为输入错误所导致的异常值，我们统计一下power超过600的观测，并且将其指定为600。\n",
    "2. power的最小值为0，很显然，不可能存在power为0的汽车，这个0可能是输入错误导致，也可能是因为是一个缺失值而用0来代替，不管如何，我们需要统计一下power为0的观测，将其替换为np.nan。并且大胆做一个推断，相同model的汽车的power差不多，所以将不同的model的汽车的power均值替换相应的model的power缺失值。"
   ]
  },
  {
   "cell_type": "code",
   "execution_count": 36,
   "metadata": {},
   "outputs": [],
   "source": [
    "# power大于600的处理，直接指定为600\n",
    "train['power'] = train['power'].map(lambda x: 600 if x > 600 else x)\n",
    "testB['power'] = testB['power'].map(lambda x:600 if x > 600 else x)"
   ]
  },
  {
   "cell_type": "code",
   "execution_count": 37,
   "metadata": {
    "scrolled": true
   },
   "outputs": [
    {
     "data": {
      "text/plain": [
       "False    137171\n",
       "True      12829\n",
       "Name: power, dtype: int64"
      ]
     },
     "execution_count": 37,
     "metadata": {},
     "output_type": "execute_result"
    }
   ],
   "source": [
    "#将power为0替换成np.nan\n",
    "train['power'] = train['power'].replace(0, np.nan)\n",
    "\n",
    "# 查看power缺失值情况\n",
    "train['power'].isnull().value_counts()"
   ]
  },
  {
   "cell_type": "code",
   "execution_count": 38,
   "metadata": {},
   "outputs": [],
   "source": [
    "# 创建字典，保存不同model下， power的平均数，并以此填充相应model的缺失值\n",
    "dict_model_train, dict_model_testB = {}, {}\n",
    "model_loop = train['model'].unique().tolist()\n",
    "for i in model_loop:\n",
    "    dict_model_train[i] = train[train['model'] == i]['power'].mean()\n",
    "    dict_model_testB[i] = testB[testB['model'] == i]['power'].mean()"
   ]
  },
  {
   "cell_type": "code",
   "execution_count": 39,
   "metadata": {},
   "outputs": [
    {
     "data": {
      "text/plain": [
       "{30.0: 72.64046021093002,\n",
       " 40.0: 150.55769230769232,\n",
       " 115.0: 141.14966740576497,\n",
       " 109.0: 278.65,\n",
       " 110.0: 62.98580121703854,\n",
       " 24.0: 123.1145038167939,\n",
       " 13.0: 197.13536142897013,\n",
       " 26.0: 107.02549781447304,\n",
       " 19.0: 143.85607541096678,\n",
       " 7.0: 111.70965309200604,\n",
       " 1.0: 132.81499556344278,\n",
       " 48.0: 68.11267605633803,\n",
       " 65.0: 132.3484251968504,\n",
       " 138.0: 144.4140127388535,\n",
       " 105.0: 210.30068337129842,\n",
       " 114.0: 153.84732824427482,\n",
       " 0.0: 109.16710586097228,\n",
       " 8.0: 134.85664854176966,\n",
       " 78.0: 133.18533604887983,\n",
       " 21.0: 61.57670126874279,\n",
       " 3.0: 79.7467911318553,\n",
       " 4.0: 157.70267554327347,\n",
       " 31.0: 156.6352773826458,\n",
       " 121.0: 190.83833116036507,\n",
       " 75.0: 222.78389830508473,\n",
       " 17.0: 187.49602213766863,\n",
       " 107.0: 80.37440758293839,\n",
       " 16.0: 68.77067348678602,\n",
       " 111.0: 139.65891472868216,\n",
       " 47.0: 205.62166962699823,\n",
       " 5.0: 94.1651282051282,\n",
       " 44.0: 117.57478005865103,\n",
       " 200.0: 128.73170731707316,\n",
       " 155.0: 120.42729306487696,\n",
       " 87.0: 131.2746170678337,\n",
       " 20.0: 91.20157068062828,\n",
       " 22.0: 76.08352144469526,\n",
       " 63.0: 127.21004566210046,\n",
       " 49.0: 190.75292692773516,\n",
       " 29.0: 67.51505445227419,\n",
       " 88.0: 125.54375531011046,\n",
       " 60.0: 81.89221014492753,\n",
       " 73.0: 124.66078184110971,\n",
       " 39.0: 113.87007874015748,\n",
       " 23.0: 148.5346177001806,\n",
       " 11.0: 100.84786641929499,\n",
       " 69.0: 131.49120234604106,\n",
       " 167.0: 341.9039735099338,\n",
       " 199.0: 241.9375,\n",
       " 178.0: 171.9817518248175,\n",
       " 101.0: 155.3826530612245,\n",
       " 6.0: 120.29513888888889,\n",
       " 10.0: 63.680284191829486,\n",
       " 57.0: 192.11475409836066,\n",
       " 33.0: 124.97583081570997,\n",
       " 32.0: 63.584843492586494,\n",
       " 52.0: 186.65166666666667,\n",
       " 46.0: 116.00613765892153,\n",
       " 74.0: 89.93092105263158,\n",
       " 93.0: 115.38392857142857,\n",
       " 125.0: 289.05263157894734,\n",
       " 41.0: 65.98779134295228,\n",
       " 127.0: 100.79457364341086,\n",
       " 104.0: 214.1703239289446,\n",
       " 98.0: 95.54605263157895,\n",
       " 68.0: 83.82926829268293,\n",
       " 156.0: 103.79656862745098,\n",
       " 116.0: 139.60544217687075,\n",
       " 170.0: 147.38679245283018,\n",
       " 160.0: 81.28440366972477,\n",
       " 85.0: 137.01554404145077,\n",
       " 80.0: 61.55555555555556,\n",
       " 143.0: 109.98214285714286,\n",
       " 77.0: 131.34848484848484,\n",
       " 166.0: 81.39473684210526,\n",
       " 53.0: 268.24597701149423,\n",
       " 66.0: 112.06494661921708,\n",
       " 203.0: 79.8655462184874,\n",
       " 14.0: 54.41275167785235,\n",
       " 42.0: 111.17605633802818,\n",
       " 119.0: 127.875,\n",
       " 174.0: 78.17514124293785,\n",
       " 177.0: 82.79629629629629,\n",
       " 210.0: 132.28205128205127,\n",
       " 36.0: 90.37358490566038,\n",
       " 238.0: 89.7,\n",
       " 70.0: 78.35507246376811,\n",
       " 58.0: 161.06451612903226,\n",
       " 126.0: 175.42528735632183,\n",
       " 84.0: 78.24183006535948,\n",
       " 97.0: 83.68253968253968,\n",
       " 108.0: 175.78688524590163,\n",
       " 192.0: 259.4313725490196,\n",
       " 64.0: 72.42073170731707,\n",
       " 15.0: 105.28865979381443,\n",
       " 95.0: 93.94964028776978,\n",
       " 54.0: 115.44952380952381,\n",
       " 142.0: 155.30674846625766,\n",
       " 55.0: 120.41588785046729,\n",
       " 218.0: 202.0,\n",
       " 222.0: 320.35632183908046,\n",
       " 163.0: 96.25728155339806,\n",
       " 76.0: 150.17866004962778,\n",
       " 83.0: 123.78181818181818,\n",
       " 122.0: 118.17521367521367,\n",
       " 18.0: 83.1891891891892,\n",
       " 124.0: 148.5818181818182,\n",
       " 106.0: 132.641425389755,\n",
       " 59.0: 124.45806451612903,\n",
       " 228.0: 88.2457627118644,\n",
       " 164.0: 52.04621848739496,\n",
       " 165.0: 171.64444444444445,\n",
       " 145.0: 391.85616438356163,\n",
       " 94.0: 67.12820512820512,\n",
       " 186.0: 137.07462686567163,\n",
       " 220.0: 95.84615384615384,\n",
       " 179.0: 184.98305084745763,\n",
       " 67.0: 59.62538699690403,\n",
       " 71.0: 88.42902208201893,\n",
       " 25.0: 159.68421052631578,\n",
       " 144.0: 126.77639751552795,\n",
       " 212.0: 158.2875,\n",
       " 172.0: 100.2074074074074,\n",
       " 168.0: 116.9093567251462,\n",
       " 206.0: 120.96491228070175,\n",
       " 152.0: 68.13793103448276,\n",
       " 123.0: 144.2713567839196,\n",
       " 182.0: 144.74193548387098,\n",
       " 38.0: 190.8840579710145,\n",
       " 117.0: 141.3607142857143,\n",
       " 132.0: 104.1853448275862,\n",
       " 99.0: 160.18965517241378,\n",
       " 183.0: 114.10169491525424,\n",
       " 219.0: 124.17647058823529,\n",
       " 62.0: 146.47210300429185,\n",
       " 173.0: 255.41379310344828,\n",
       " 82.0: 104.66725978647686,\n",
       " 34.0: 120.80842911877394,\n",
       " 102.0: 83.51587301587301,\n",
       " 213.0: 72.0072463768116,\n",
       " 92.0: 63.72121212121212,\n",
       " 162.0: 70.89142857142858,\n",
       " 43.0: 164.4763406940063,\n",
       " 175.0: 160.72881355932202,\n",
       " 35.0: 151.30962343096235,\n",
       " 61.0: 287.78125,\n",
       " 113.0: 204.0964467005076,\n",
       " 137.0: 86.31226765799256,\n",
       " 226.0: 273.24,\n",
       " 161.0: 145.9121951219512,\n",
       " 134.0: 259.92045454545456,\n",
       " 202.0: 173.78571428571428,\n",
       " 130.0: 112.41258741258741,\n",
       " 146.0: 78.11111111111111,\n",
       " 139.0: 151.14689265536722,\n",
       " 45.0: 78.22012578616352,\n",
       " 112.0: 88.17391304347827,\n",
       " 227.0: 59.07142857142857,\n",
       " 195.0: 179.62745098039215,\n",
       " 2.0: 175.3933823529412,\n",
       " 51.0: 151.28901734104045,\n",
       " 232.0: 166.5,\n",
       " 129.0: 131.13636363636363,\n",
       " 135.0: 252.25641025641025,\n",
       " 169.0: 86.59731543624162,\n",
       " 191.0: 141.9878048780488,\n",
       " 148.0: 148.39795918367346,\n",
       " 140.0: 67.5220588235294,\n",
       " 9.0: 165.14814814814815,\n",
       " 201.0: 155.9041095890411,\n",
       " 237.0: 140.6,\n",
       " 221.0: 156.09411764705882,\n",
       " 171.0: 290.34645669291336,\n",
       " 196.0: 333.8,\n",
       " 204.0: 92.37254901960785,\n",
       " 185.0: 144.96747967479675,\n",
       " 147.0: 79.51851851851852,\n",
       " 189.0: 212.525,\n",
       " 193.0: 65.625,\n",
       " 214.0: 81.775,\n",
       " 56.0: 190.85263157894738,\n",
       " 180.0: 114.53488372093024,\n",
       " 100.0: 56.34959349593496,\n",
       " 187.0: 146.62637362637363,\n",
       " 91.0: 58.093333333333334,\n",
       " 208.0: 135.14285714285714,\n",
       " 150.0: 79.03846153846153,\n",
       " 131.0: 153.94776119402985,\n",
       " 28.0: 113.82954545454545,\n",
       " 188.0: 113.57391304347826,\n",
       " 149.0: 74.44897959183673,\n",
       " 12.0: 168.24358974358975,\n",
       " 118.0: 141.87943262411346,\n",
       " 184.0: 123.9622641509434,\n",
       " 120.0: 136.55555555555554,\n",
       " 50.0: 85.08333333333333,\n",
       " 136.0: 138.96323529411765,\n",
       " 176.0: 137.13103448275862,\n",
       " 223.0: 80.0,\n",
       " 79.0: 117.72631578947369,\n",
       " 37.0: 140.26530612244898,\n",
       " 133.0: 78.43333333333334,\n",
       " 27.0: 281.83673469387753,\n",
       " 246.0: 156.83333333333334,\n",
       " 96.0: 233.94444444444446,\n",
       " 153.0: 105.68316831683168,\n",
       " 103.0: 79.08163265306122,\n",
       " 194.0: 83.3763440860215,\n",
       " 154.0: 136.65546218487395,\n",
       " 240.0: 190.0,\n",
       " 225.0: 156.03389830508473,\n",
       " 90.0: 205.3793103448276,\n",
       " 86.0: 124.34736842105264,\n",
       " 207.0: 181.39344262295083,\n",
       " 234.0: 108.05,\n",
       " 141.0: 85.54545454545455,\n",
       " 181.0: 239.60377358490567,\n",
       " 211.0: 141.76190476190476,\n",
       " 197.0: 178.96491228070175,\n",
       " 81.0: 66.39310344827587,\n",
       " 217.0: 111.27272727272727,\n",
       " 216.0: 119.92592592592592,\n",
       " 157.0: 185.46,\n",
       " 243.0: 60.0,\n",
       " 239.0: 92.71428571428571,\n",
       " 159.0: 130.9322033898305,\n",
       " 244.0: 26.0,\n",
       " 128.0: 125.27083333333333,\n",
       " 72.0: 185.55208333333334,\n",
       " 158.0: 153.61176470588236,\n",
       " 190.0: 151.4,\n",
       " 215.0: 171.5810810810811,\n",
       " 205.0: 155.5609756097561,\n",
       " 151.0: 226.92,\n",
       " 224.0: 154.5625,\n",
       " 236.0: 96.45454545454545,\n",
       " 231.0: 56.6875,\n",
       " 230.0: 173.0625,\n",
       " 89.0: 65.73684210526316,\n",
       " 198.0: 136.86666666666667,\n",
       " 209.0: 71.0,\n",
       " 233.0: 172.61111111111111,\n",
       " 241.0: 100.6,\n",
       " 229.0: 92.3,\n",
       " 235.0: 112.0,\n",
       " 245.0: 173.5,\n",
       " 242.0: 82.0,\n",
       " 247.0: 125.0}"
      ]
     },
     "execution_count": 39,
     "metadata": {},
     "output_type": "execute_result"
    }
   ],
   "source": [
    "dict_model_train"
   ]
  },
  {
   "cell_type": "code",
   "execution_count": 40,
   "metadata": {},
   "outputs": [
    {
     "data": {
      "text/plain": [
       "{30.0: 65.31021437578815,\n",
       " 40.0: 142.11023622047244,\n",
       " 115.0: 137.7015873015873,\n",
       " 109.0: 246.79508196721312,\n",
       " 110.0: 58.32960893854749,\n",
       " 24.0: 118.44262295081967,\n",
       " 13.0: 186.78995057660626,\n",
       " 26.0: 97.7691798941799,\n",
       " 19.0: 131.4807811531308,\n",
       " 7.0: 102.51809954751131,\n",
       " 1.0: 97.9979808177688,\n",
       " 48.0: 59.71011104617183,\n",
       " 65.0: 122.40958605664488,\n",
       " 138.0: 132.45098039215685,\n",
       " 105.0: 209.14457831325302,\n",
       " 114.0: 154.79245283018867,\n",
       " 0.0: 101.72534464475079,\n",
       " 8.0: 123.59357923497268,\n",
       " 78.0: 123.39428571428572,\n",
       " 21.0: 55.232484076433124,\n",
       " 3.0: 74.84053156146179,\n",
       " 4.0: 146.73189964157706,\n",
       " 31.0: 145.75565964090555,\n",
       " 121.0: 181.96370967741936,\n",
       " 75.0: 211.42285714285714,\n",
       " 17.0: 174.2913843175218,\n",
       " 107.0: 71.28,\n",
       " 16.0: 60.183794466403164,\n",
       " 111.0: 129.30985915492957,\n",
       " 47.0: 200.98048780487804,\n",
       " 5.0: 89.98522895125554,\n",
       " 44.0: 110.16689466484269,\n",
       " 200.0: 120.75675675675676,\n",
       " 155.0: 114.22222222222223,\n",
       " 87.0: 122.75617283950618,\n",
       " 20.0: 87.90350877192982,\n",
       " 22.0: 66.88796680497926,\n",
       " 63.0: 115.2135922330097,\n",
       " 49.0: 181.625,\n",
       " 29.0: 61.27165354330709,\n",
       " 88.0: 113.04807692307692,\n",
       " 60.0: 78.34357541899442,\n",
       " 73.0: 113.12655971479501,\n",
       " 39.0: 104.48333333333333,\n",
       " 23.0: 146.73241852487135,\n",
       " 11.0: 90.6779359430605,\n",
       " 69.0: 113.43126177024482,\n",
       " 167.0: 301.890243902439,\n",
       " 199.0: 179.57142857142858,\n",
       " 178.0: 150.44444444444446,\n",
       " 101.0: 159.46031746031747,\n",
       " 6.0: 124.1264367816092,\n",
       " 10.0: 53.0096,\n",
       " 57.0: 189.52592592592592,\n",
       " 33.0: 114.80882352941177,\n",
       " 32.0: 56.391129032258064,\n",
       " 52.0: 174.53521126760563,\n",
       " 46.0: 106.44316877152698,\n",
       " 74.0: 83.00862068965517,\n",
       " 93.0: 111.3875968992248,\n",
       " 125.0: 292.7,\n",
       " 41.0: 51.574683544303795,\n",
       " 127.0: 88.87378640776699,\n",
       " 104.0: 200.39296187683286,\n",
       " 98.0: 87.54824561403508,\n",
       " 68.0: 48.72727272727273,\n",
       " 156.0: 99.39473684210526,\n",
       " 116.0: 146.1290322580645,\n",
       " 170.0: 144.0,\n",
       " 160.0: 69.25170068027211,\n",
       " 85.0: 128.765625,\n",
       " 80.0: 52.34444444444444,\n",
       " 143.0: 92.67605633802818,\n",
       " 77.0: 113.40182648401826,\n",
       " 166.0: 73.89473684210526,\n",
       " 53.0: 253.15384615384616,\n",
       " 66.0: 99.69620253164557,\n",
       " 203.0: 78.9245283018868,\n",
       " 14.0: 43.739495798319325,\n",
       " 42.0: 106.56,\n",
       " 119.0: 117.79802955665025,\n",
       " 174.0: 80.71232876712328,\n",
       " 177.0: 73.5625,\n",
       " 210.0: 129.61764705882354,\n",
       " 36.0: 80.98148148148148,\n",
       " 238.0: 77.05555555555556,\n",
       " 70.0: 69.58490566037736,\n",
       " 58.0: 153.51020408163265,\n",
       " 126.0: 170.31034482758622,\n",
       " 84.0: 65.50746268656717,\n",
       " 97.0: 78.16326530612245,\n",
       " 108.0: 149.58064516129033,\n",
       " 192.0: 243.39344262295083,\n",
       " 64.0: 62.90384615384615,\n",
       " 15.0: 92.07070707070707,\n",
       " 95.0: 82.16666666666667,\n",
       " 54.0: 100.4113924050633,\n",
       " 142.0: 158.98,\n",
       " 55.0: 108.62650602409639,\n",
       " 218.0: 194.47368421052633,\n",
       " 222.0: 303.30555555555554,\n",
       " 163.0: 84.76923076923077,\n",
       " 76.0: 141.1642857142857,\n",
       " 83.0: 127.91891891891892,\n",
       " 122.0: 101.85185185185185,\n",
       " 18.0: 59.5,\n",
       " 124.0: 153.73333333333332,\n",
       " 106.0: 119.28205128205128,\n",
       " 59.0: 108.35051546391753,\n",
       " 228.0: 83.06382978723404,\n",
       " 164.0: 42.529411764705884,\n",
       " 165.0: 170.4090909090909,\n",
       " 145.0: 384.85714285714283,\n",
       " 94.0: 60.79661016949152,\n",
       " 186.0: 103.85714285714286,\n",
       " 220.0: 107.0,\n",
       " 179.0: 154.5,\n",
       " 67.0: 54.33244680851064,\n",
       " 71.0: 82.1311475409836,\n",
       " 25.0: 158.17391304347825,\n",
       " 144.0: 120.3103448275862,\n",
       " 212.0: 138.82608695652175,\n",
       " 172.0: 93.83898305084746,\n",
       " 168.0: 113.28260869565217,\n",
       " 206.0: 109.16666666666667,\n",
       " 152.0: 65.65079365079364,\n",
       " 123.0: 119.44736842105263,\n",
       " 182.0: 112.6875,\n",
       " 38.0: 177.54545454545453,\n",
       " 117.0: 122.4578313253012,\n",
       " 132.0: 92.52525252525253,\n",
       " 99.0: 155.21052631578948,\n",
       " 183.0: 111.76470588235294,\n",
       " 219.0: 116.82608695652173,\n",
       " 62.0: 144.9111111111111,\n",
       " 173.0: 232.1578947368421,\n",
       " 82.0: 97.86170212765957,\n",
       " 34.0: 98.9047619047619,\n",
       " 102.0: 80.56603773584905,\n",
       " 213.0: 59.791666666666664,\n",
       " 92.0: 48.42,\n",
       " 162.0: 64.22413793103448,\n",
       " 43.0: 164.55421686746988,\n",
       " 175.0: 158.66666666666666,\n",
       " 35.0: 144.3684210526316,\n",
       " 61.0: 239.57894736842104,\n",
       " 113.0: 197.38666666666666,\n",
       " 137.0: 76.77,\n",
       " 226.0: 313.8181818181818,\n",
       " 161.0: 143.86486486486487,\n",
       " 134.0: 246.66666666666666,\n",
       " 202.0: 168.46153846153845,\n",
       " 130.0: 110.12068965517241,\n",
       " 146.0: 77.79411764705883,\n",
       " 139.0: 147.03076923076924,\n",
       " 45.0: 67.66129032258064,\n",
       " 112.0: 85.28,\n",
       " 227.0: 31.125,\n",
       " 195.0: 173.64285714285714,\n",
       " 2.0: 158.8019801980198,\n",
       " 51.0: 137.8507462686567,\n",
       " 232.0: 180.66666666666666,\n",
       " 129.0: 129.33333333333334,\n",
       " 135.0: 245.0,\n",
       " 169.0: 76.22666666666667,\n",
       " 191.0: 132.5909090909091,\n",
       " 148.0: 140.46875,\n",
       " 140.0: 65.0,\n",
       " 9.0: 172.08333333333334,\n",
       " 201.0: 156.07142857142858,\n",
       " 237.0: 136.71428571428572,\n",
       " 221.0: 122.1,\n",
       " 171.0: 288.75,\n",
       " 196.0: 309.828125,\n",
       " 204.0: 92.45,\n",
       " 185.0: 118.26829268292683,\n",
       " 147.0: 51.57142857142857,\n",
       " 189.0: 222.47619047619048,\n",
       " 193.0: 66.91666666666667,\n",
       " 214.0: 67.875,\n",
       " 56.0: 178.71052631578948,\n",
       " 180.0: 97.484375,\n",
       " 100.0: 39.767857142857146,\n",
       " 187.0: 128.85294117647058,\n",
       " 91.0: 54.68571428571428,\n",
       " 208.0: 133.9375,\n",
       " 150.0: 73.05882352941177,\n",
       " 131.0: 135.4,\n",
       " 28.0: 98.43181818181819,\n",
       " 188.0: 102.06521739130434,\n",
       " 149.0: 73.0,\n",
       " 12.0: 164.3548387096774,\n",
       " 118.0: 130.875,\n",
       " 184.0: 127.61111111111111,\n",
       " 120.0: 121.15151515151516,\n",
       " 50.0: 79.51851851851852,\n",
       " 136.0: 136.0204081632653,\n",
       " 176.0: 123.37209302325581,\n",
       " 223.0: 48.0,\n",
       " 79.0: 111.45833333333333,\n",
       " 37.0: 120.16666666666667,\n",
       " 133.0: 57.81818181818182,\n",
       " 27.0: 258.5274725274725,\n",
       " 246.0: 170.0,\n",
       " 96.0: 214.83464566929135,\n",
       " 153.0: 93.57692307692308,\n",
       " 103.0: 74.14035087719299,\n",
       " 194.0: 75.68571428571428,\n",
       " 154.0: 140.675,\n",
       " 240.0: nan,\n",
       " 225.0: 142.31578947368422,\n",
       " 90.0: 206.8421052631579,\n",
       " 86.0: 122.13333333333334,\n",
       " 207.0: 140.33333333333334,\n",
       " 234.0: 55.5,\n",
       " 141.0: 61.416666666666664,\n",
       " 181.0: 216.70833333333334,\n",
       " 211.0: 141.72727272727272,\n",
       " 197.0: 160.84615384615384,\n",
       " 81.0: 65.74509803921569,\n",
       " 217.0: 101.4,\n",
       " 216.0: 138.53333333333333,\n",
       " 157.0: 176.58333333333334,\n",
       " 243.0: nan,\n",
       " 239.0: 97.66666666666667,\n",
       " 159.0: 138.68,\n",
       " 244.0: 41.0,\n",
       " 128.0: 118.125,\n",
       " 72.0: 170.44117647058823,\n",
       " 158.0: 163.04347826086956,\n",
       " 190.0: 154.0,\n",
       " 215.0: 160.92307692307693,\n",
       " 205.0: 157.75,\n",
       " 151.0: 209.5,\n",
       " 224.0: 147.0,\n",
       " 236.0: 105.33333333333333,\n",
       " 231.0: 49.5,\n",
       " 230.0: 167.25,\n",
       " 89.0: 62.5,\n",
       " 198.0: 102.625,\n",
       " 209.0: 37.5,\n",
       " 233.0: 180.0,\n",
       " 241.0: 103.0,\n",
       " 229.0: 45.0,\n",
       " 235.0: 106.83333333333333,\n",
       " 245.0: 90.66666666666667,\n",
       " 242.0: 90.0,\n",
       " 247.0: nan}"
      ]
     },
     "execution_count": 40,
     "metadata": {},
     "output_type": "execute_result"
    }
   ],
   "source": [
    "dict_model_testB"
   ]
  },
  {
   "cell_type": "code",
   "execution_count": 41,
   "metadata": {},
   "outputs": [],
   "source": [
    "# 开始填充power缺失值\n",
    "# 在含power缺失值的条目中，将不同model对应的index输出保存到一个字典中\n",
    "dict_index_train, dict_index_testB = {}, {}\n",
    "# 分别保存不同bodyType缺失值的index\n",
    "for model in model_loop:\n",
    "    dict_index_train[model] = train[(train['model'] == model) & (train['power'].isnull())].index.tolist()\n",
    "    dict_index_testB[model] = testB[(testB['model'] == model) & (testB['power'].isnull())].index.tolist()"
   ]
  },
  {
   "cell_type": "code",
   "execution_count": 42,
   "metadata": {},
   "outputs": [],
   "source": [
    "# 分别对每个model所对应的index来填充power列\n",
    "for model, power in dict_model_train.items():\n",
    "    train.loc[dict_index_train[model], 'power'] = power\n",
    "    testB.loc[dict_index_testB[model], 'power'] = power"
   ]
  },
  {
   "cell_type": "code",
   "execution_count": 43,
   "metadata": {},
   "outputs": [
    {
     "data": {
      "text/plain": [
       "False    150000\n",
       "Name: power, dtype: int64"
      ]
     },
     "execution_count": 43,
     "metadata": {},
     "output_type": "execute_result"
    }
   ],
   "source": [
    "# 检查是否替换成功\n",
    "train['power'].isnull().value_counts()"
   ]
  },
  {
   "cell_type": "code",
   "execution_count": 44,
   "metadata": {},
   "outputs": [
    {
     "data": {
      "text/plain": [
       "False    50000\n",
       "Name: power, dtype: int64"
      ]
     },
     "execution_count": 44,
     "metadata": {},
     "output_type": "execute_result"
    }
   ],
   "source": [
    "# 检查是否替换成功\n",
    "testB['power'].isnull().value_counts()"
   ]
  },
  {
   "cell_type": "code",
   "execution_count": 45,
   "metadata": {
    "scrolled": false
   },
   "outputs": [
    {
     "data": {
      "text/plain": [
       "Text(0.5, 1.0, 'Figure7: power distribution')"
      ]
     },
     "execution_count": 45,
     "metadata": {},
     "output_type": "execute_result"
    },
    {
     "data": {
      "image/png": "[encoded data removed]",
      "text/plain": [
       "<Figure size 1080x720 with 1 Axes>"
      ]
     },
     "metadata": {
      "needs_background": "light"
     },
     "output_type": "display_data"
    }
   ],
   "source": [
    "# 查看特征power分布\n",
    "plt.figure(figsize = (15,10))\n",
    "sns.histplot(data = train, x = train['power'],bins = 30).set_title('Figure7: power distribution')"
   ]
  },
  {
   "cell_type": "markdown",
   "metadata": {},
   "source": [
    "由上图可以看出绝大部分的车的power都在100左右，并且右偏。这里可能需要做一个分箱，这次就不分了，下次一定。"
   ]
  },
  {
   "cell_type": "markdown",
   "metadata": {},
   "source": [
    "##### 2.3.8 kilometer\n",
    "kilometer。汽车已行驶里程数，单位公里。一般来说二手汽车里程数和售价呈负相关。"
   ]
  },
  {
   "cell_type": "code",
   "execution_count": 46,
   "metadata": {},
   "outputs": [
    {
     "data": {
      "text/plain": [
       "count    150000.000000\n",
       "mean         12.597160\n",
       "std           3.919576\n",
       "min           0.500000\n",
       "25%          12.500000\n",
       "50%          15.000000\n",
       "75%          15.000000\n",
       "max          15.000000\n",
       "Name: kilometer, dtype: float64"
      ]
     },
     "execution_count": 46,
     "metadata": {},
     "output_type": "execute_result"
    }
   ],
   "source": [
    "train['kilometer'].describe()"
   ]
  },
  {
   "cell_type": "code",
   "execution_count": 47,
   "metadata": {},
   "outputs": [
    {
     "data": {
      "text/plain": [
       "Text(0.5, 1.0, 'Figure8: kilometer distribution')"
      ]
     },
     "execution_count": 47,
     "metadata": {},
     "output_type": "execute_result"
    },
    {
     "data": {
      "image/png": "[encoded data removed]",
      "text/plain": [
       "<Figure size 1080x720 with 1 Axes>"
      ]
     },
     "metadata": {
      "needs_background": "light"
     },
     "output_type": "display_data"
    }
   ],
   "source": [
    "# 查看特征kilometer分布\n",
    "plt.figure(figsize = (15,10))\n",
    "sns.countplot(x = train['kilometer']).set_title('Figure8: kilometer distribution')"
   ]
  },
  {
   "cell_type": "markdown",
   "metadata": {},
   "source": [
    "上图显示，已行驶里程数大多数都是15，并且远远大于12.5，猜测可能是超过15之后做了一个截断，这里也许可以做一个分箱。"
   ]
  },
  {
   "cell_type": "markdown",
   "metadata": {},
   "source": [
    "##### 2.3.9 notRepairedDamage\n",
    "notRepairedDamage。是否有未修复的损坏。\n",
    "0. 是\n",
    "1. 否"
   ]
  },
  {
   "cell_type": "code",
   "execution_count": 48,
   "metadata": {},
   "outputs": [
    {
     "data": {
      "text/plain": [
       "0.0    111361\n",
       "-       24324\n",
       "1.0     14315\n",
       "Name: notRepairedDamage, dtype: int64"
      ]
     },
     "execution_count": 48,
     "metadata": {},
     "output_type": "execute_result"
    }
   ],
   "source": [
    "# 查快速查看分布\n",
    "train['notRepairedDamage'].value_counts()"
   ]
  },
  {
   "cell_type": "markdown",
   "metadata": {},
   "source": [
    "首先现将'-'替换成np.nan，此外该特征的类型是object，需要转换成数值类型。对于缺失值处理我们用最多的0.0来替换缺失值。"
   ]
  },
  {
   "cell_type": "code",
   "execution_count": 49,
   "metadata": {
    "scrolled": true
   },
   "outputs": [],
   "source": [
    "# 转换'-'\n",
    "train['notRepairedDamage'] = train['notRepairedDamage'].replace('-', np.nan) \n",
    "testB['notRepairedDamage'] = testB['notRepairedDamage'].replace('-', np.nan)\n",
    "\n",
    "# 转换数据类型\n",
    "train['notRepairedDamage'] = train['notRepairedDamage'].astype('float64')\n",
    "testB['notRepairedDamage'] = testB['notRepairedDamage'].astype('float64')"
   ]
  },
  {
   "cell_type": "code",
   "execution_count": 50,
   "metadata": {},
   "outputs": [],
   "source": [
    "# 使用0.0替换缺失值\n",
    "train.loc[:, 'notRepairedDamage'] = train['notRepairedDamage'].map(lambda x: 0.0 if pd.isnull(x) else x)\n",
    "testB.loc[:, 'notRepairedDamage'] = testB['notRepairedDamage'].map(lambda x: 0.0 if pd.isnull(x) else x)"
   ]
  },
  {
   "cell_type": "code",
   "execution_count": 51,
   "metadata": {},
   "outputs": [
    {
     "data": {
      "text/plain": [
       "Text(0.5, 1.0, 'Figure9: notRepairedDamage distribution')"
      ]
     },
     "execution_count": 51,
     "metadata": {},
     "output_type": "execute_result"
    },
    {
     "data": {
      "image/png": "[encoded data removed]",
      "text/plain": [
       "<Figure size 1080x720 with 1 Axes>"
      ]
     },
     "metadata": {
      "needs_background": "light"
     },
     "output_type": "display_data"
    }
   ],
   "source": [
    "# 查看特征notRepairedDamage的分布\n",
    "plt.figure(figsize = (15,10))\n",
    "sns.countplot(x = train['notRepairedDamage']).set_title('Figure9: notRepairedDamage distribution')"
   ]
  },
  {
   "cell_type": "markdown",
   "metadata": {},
   "source": [
    "##### 2.3.10 regionCode\n",
    "regionCode。地区代码，已脱敏。"
   ]
  },
  {
   "cell_type": "markdown",
   "metadata": {},
   "source": [
    "看论坛发现了一个技巧，区域代号去除后面三位就是城市代号，我们也这么做。"
   ]
  },
  {
   "cell_type": "code",
   "execution_count": 52,
   "metadata": {},
   "outputs": [],
   "source": [
    "# 去掉regionCode后三位的结果就是city代号\n",
    "train['city'] = train['regionCode'].apply(lambda x: str(x)[:-3])\n",
    "testB['city'] = testB['regionCode'].apply(lambda x: str(x)[:-3])"
   ]
  },
  {
   "cell_type": "code",
   "execution_count": 53,
   "metadata": {},
   "outputs": [
    {
     "name": "stdout",
     "output_type": "stream",
     "text": [
      "<class 'pandas.core.frame.DataFrame'>\n",
      "RangeIndex: 150000 entries, 0 to 149999\n",
      "Data columns (total 33 columns):\n",
      " #   Column             Non-Null Count   Dtype         \n",
      "---  ------             --------------   -----         \n",
      " 0   SaleID             150000 non-null  int64         \n",
      " 1   name               150000 non-null  int64         \n",
      " 2   regDate            150000 non-null  datetime64[ns]\n",
      " 3   model              150000 non-null  float64       \n",
      " 4   brand              150000 non-null  int64         \n",
      " 5   bodyType           150000 non-null  float64       \n",
      " 6   fuelType           150000 non-null  float64       \n",
      " 7   gearbox            150000 non-null  float64       \n",
      " 8   power              150000 non-null  float64       \n",
      " 9   kilometer          150000 non-null  float64       \n",
      " 10  notRepairedDamage  150000 non-null  float64       \n",
      " 11  regionCode         150000 non-null  int64         \n",
      " 12  seller             150000 non-null  int64         \n",
      " 13  offerType          150000 non-null  int64         \n",
      " 14  creatDate          150000 non-null  datetime64[ns]\n",
      " 15  price              150000 non-null  int64         \n",
      " 16  v_0                150000 non-null  float64       \n",
      " 17  v_1                150000 non-null  float64       \n",
      " 18  v_2                150000 non-null  float64       \n",
      " 19  v_3                150000 non-null  float64       \n",
      " 20  v_4                150000 non-null  float64       \n",
      " 21  v_5                150000 non-null  float64       \n",
      " 22  v_6                150000 non-null  float64       \n",
      " 23  v_7                150000 non-null  float64       \n",
      " 24  v_8                150000 non-null  float64       \n",
      " 25  v_9                150000 non-null  float64       \n",
      " 26  v_10               150000 non-null  float64       \n",
      " 27  v_11               150000 non-null  float64       \n",
      " 28  v_12               150000 non-null  float64       \n",
      " 29  v_13               150000 non-null  float64       \n",
      " 30  v_14               150000 non-null  float64       \n",
      " 31  age                150000 non-null  int64         \n",
      " 32  city               150000 non-null  object        \n",
      "dtypes: datetime64[ns](2), float64(22), int64(8), object(1)\n",
      "memory usage: 37.8+ MB\n"
     ]
    }
   ],
   "source": [
    "# 查看此时city的类型,发现是object。\n",
    "train.info()"
   ]
  },
  {
   "cell_type": "code",
   "execution_count": 54,
   "metadata": {},
   "outputs": [
    {
     "data": {
      "text/plain": [
       "     36680\n",
       "1    31886\n",
       "2    26481\n",
       "3    20545\n",
       "4    14969\n",
       "5    10047\n",
       "6     6304\n",
       "7     2986\n",
       "8      102\n",
       "Name: city, dtype: int64"
      ]
     },
     "execution_count": 54,
     "metadata": {},
     "output_type": "execute_result"
    }
   ],
   "source": [
    "# 查看下city的分布情况\n",
    "train['city'].value_counts()"
   ]
  },
  {
   "cell_type": "code",
   "execution_count": 55,
   "metadata": {
    "scrolled": true
   },
   "outputs": [
    {
     "data": {
      "text/plain": [
       "     12399\n",
       "1    10411\n",
       "2     8915\n",
       "3     6791\n",
       "4     4947\n",
       "5     3413\n",
       "6     2081\n",
       "7     1012\n",
       "8       31\n",
       "Name: city, dtype: int64"
      ]
     },
     "execution_count": 55,
     "metadata": {},
     "output_type": "execute_result"
    }
   ],
   "source": [
    "testB['city'].value_counts()"
   ]
  },
  {
   "cell_type": "markdown",
   "metadata": {},
   "source": [
    "发现train和testB的city都有一个''的分类。将其转换成0。此外需要将object格式转换成float64."
   ]
  },
  {
   "cell_type": "code",
   "execution_count": 56,
   "metadata": {},
   "outputs": [],
   "source": [
    "# 将''替换成0\n",
    "train['city'] = train['city'].replace('', 0) \n",
    "testB['city'] = testB['city'].replace('', 0) \n",
    "\n",
    "# 再将格式转换成float64\n",
    "train['city'] = train['city'].astype('float64')\n",
    "testB['city'] = testB['city'].astype('float64')"
   ]
  },
  {
   "cell_type": "markdown",
   "metadata": {},
   "source": [
    "##### 2.3.11 seller\n",
    "seller。销售方。分为个体或者非个体，应该就是我们说的个人车主和二手车销售平台。\n",
    "0. 个体\n",
    "1. 非个体"
   ]
  },
  {
   "cell_type": "code",
   "execution_count": 57,
   "metadata": {},
   "outputs": [
    {
     "data": {
      "text/plain": [
       "0    149999\n",
       "1         1\n",
       "Name: seller, dtype: int64"
      ]
     },
     "execution_count": 57,
     "metadata": {},
     "output_type": "execute_result"
    }
   ],
   "source": [
    "# 快速查看seller分布\n",
    "train['seller'].value_counts()"
   ]
  },
  {
   "cell_type": "markdown",
   "metadata": {},
   "source": [
    "没有什么意义，这个特征可以删除。"
   ]
  },
  {
   "cell_type": "markdown",
   "metadata": {},
   "source": [
    "##### 2.3.12 offerType\n",
    "offerType。报价类型。\n",
    "0. 提供\n",
    "1. 请求"
   ]
  },
  {
   "cell_type": "code",
   "execution_count": 58,
   "metadata": {},
   "outputs": [
    {
     "data": {
      "text/plain": [
       "0    150000\n",
       "Name: offerType, dtype: int64"
      ]
     },
     "execution_count": 58,
     "metadata": {},
     "output_type": "execute_result"
    }
   ],
   "source": [
    "# 快速查看特征分布\n",
    "train['offerType'].value_counts()"
   ]
  },
  {
   "cell_type": "markdown",
   "metadata": {},
   "source": [
    "这个特征也可以直接删除。"
   ]
  },
  {
   "cell_type": "markdown",
   "metadata": {},
   "source": [
    "##### 2.3.13 v0到v14\n",
    "15个匿名特征，无法从现实中考虑其意义，所以在特征工程中进行相关系数的分析，选择有意义的特征进行研究。"
   ]
  },
  {
   "cell_type": "markdown",
   "metadata": {},
   "source": [
    "##### 2.3.14 price\n",
    "price。二手车价格，是我们需要预测的数据。"
   ]
  },
  {
   "cell_type": "code",
   "execution_count": 59,
   "metadata": {},
   "outputs": [
    {
     "data": {
      "text/plain": [
       "Text(0.5, 1.0, 'Figure10 price distribution')"
      ]
     },
     "execution_count": 59,
     "metadata": {},
     "output_type": "execute_result"
    },
    {
     "data": {
      "image/png": "[encoded data removed]",
      "text/plain": [
       "<Figure size 1080x720 with 1 Axes>"
      ]
     },
     "metadata": {
      "needs_background": "light"
     },
     "output_type": "display_data"
    }
   ],
   "source": [
    "# 查看price的分布\n",
    "plt.figure(figsize = (15,10))\n",
    "sns.histplot(x = train['price'], bins = 50).set_title('Figure10 price distribution')"
   ]
  },
  {
   "cell_type": "markdown",
   "metadata": {},
   "source": [
    "由上图可以看出价格右偏十分的严重。后期需要对其取log。"
   ]
  },
  {
   "cell_type": "markdown",
   "metadata": {},
   "source": [
    "### 3. 特征工程\n",
    "在本部分，我们将首先判断各个特征和与测量price的相关系数，然后删除掉一些特征，然后再对需要的特征做一些优化。"
   ]
  },
  {
   "cell_type": "markdown",
   "metadata": {},
   "source": [
    "#### 3.1 特征筛选"
   ]
  },
  {
   "cell_type": "code",
   "execution_count": 60,
   "metadata": {},
   "outputs": [
    {
     "data": {
      "text/plain": [
       "price                1.000000\n",
       "v_12                 0.692823\n",
       "v_8                  0.685798\n",
       "v_0                  0.628397\n",
       "power                0.576837\n",
       "gearbox              0.330353\n",
       "bodyType             0.248609\n",
       "fuelType             0.200917\n",
       "v_5                  0.164317\n",
       "model                0.137049\n",
       "v_2                  0.085322\n",
       "v_6                  0.068970\n",
       "v_1                  0.060914\n",
       "v_14                 0.035911\n",
       "city                 0.014176\n",
       "regionCode           0.014036\n",
       "name                 0.002030\n",
       "SaleID              -0.001043\n",
       "seller              -0.002004\n",
       "v_13                -0.013993\n",
       "brand               -0.043799\n",
       "v_7                 -0.053024\n",
       "v_4                 -0.147085\n",
       "notRepairedDamage   -0.157523\n",
       "v_9                 -0.206205\n",
       "v_10                -0.246175\n",
       "v_11                -0.275320\n",
       "kilometer           -0.440519\n",
       "age                 -0.611528\n",
       "v_3                 -0.730946\n",
       "offerType                 NaN\n",
       "dtype: float64"
      ]
     },
     "execution_count": 60,
     "metadata": {},
     "output_type": "execute_result"
    }
   ],
   "source": [
    "# 查看各个特征和price的相关系数\n",
    "train.corr().unstack()['price'].sort_values(ascending = False)"
   ]
  },
  {
   "cell_type": "markdown",
   "metadata": {},
   "source": [
    "特征的筛选按照如下的顺序：\n",
    "\n",
    "* 相关系数很低的直接删除。我们删除绝对值低于0.2的特征。\n",
    "* 在绝对值低于0.2的特征中，匿名特征直接删除，剩下的具有实际意义的特征需要考虑一下是保留还是删除。\n",
    "* 一些特征已经创建了新的特征，其本身可以被删除了,例如regDate,creatDate,regionCode\n",
    "\n",
    "根据筛选我们删除v_5,v_2,v_6,v_1,v_14,v_13,v_7,v_4,regionCode,name,SaleID,seller,offerType,regDate,creatDate."
   ]
  },
  {
   "cell_type": "code",
   "execution_count": 61,
   "metadata": {},
   "outputs": [],
   "source": [
    "# 删除特征\n",
    "train.drop(['v_5','v_2', 'v_6', 'v_1', 'v_14', 'v_13', 'v_7','v_4','regionCode', 'name','SaleID','seller','offerType','regDate', 'creatDate'], axis=1, inplace=True)\n",
    "testB.drop(['v_5','v_2', 'v_6', 'v_1', 'v_14', 'v_13', 'v_7','v_4','regionCode', 'name','seller','offerType','regDate', 'creatDate'], axis=1, inplace=True)"
   ]
  },
  {
   "cell_type": "code",
   "execution_count": 62,
   "metadata": {
    "scrolled": false
   },
   "outputs": [
    {
     "data": {
      "text/plain": [
       "((150000, 18), (50000, 17))"
      ]
     },
     "execution_count": 62,
     "metadata": {},
     "output_type": "execute_result"
    }
   ],
   "source": [
    "train.shape, testB.shape"
   ]
  },
  {
   "cell_type": "code",
   "execution_count": 63,
   "metadata": {},
   "outputs": [
    {
     "data": {
      "text/html": [
       "<div>\n",
       "<style scoped>\n",
       "    .dataframe tbody tr th:only-of-type {\n",
       "        vertical-align: middle;\n",
       "    }\n",
       "\n",
       "    .dataframe tbody tr th {\n",
       "        vertical-align: top;\n",
       "    }\n",
       "\n",
       "    .dataframe thead th {\n",
       "        text-align: right;\n",
       "    }\n",
       "</style>\n",
       "<table border=\"1\" class=\"dataframe\">\n",
       "  <thead>\n",
       "    <tr style=\"text-align: right;\">\n",
       "      <th></th>\n",
       "      <th>model</th>\n",
       "      <th>brand</th>\n",
       "      <th>bodyType</th>\n",
       "      <th>fuelType</th>\n",
       "      <th>gearbox</th>\n",
       "      <th>power</th>\n",
       "      <th>kilometer</th>\n",
       "      <th>notRepairedDamage</th>\n",
       "      <th>price</th>\n",
       "      <th>v_0</th>\n",
       "      <th>v_3</th>\n",
       "      <th>v_8</th>\n",
       "      <th>v_9</th>\n",
       "      <th>v_10</th>\n",
       "      <th>v_11</th>\n",
       "      <th>v_12</th>\n",
       "      <th>age</th>\n",
       "      <th>city</th>\n",
       "    </tr>\n",
       "  </thead>\n",
       "  <tbody>\n",
       "    <tr>\n",
       "      <th>0</th>\n",
       "      <td>30.0</td>\n",
       "      <td>6</td>\n",
       "      <td>1.0</td>\n",
       "      <td>0.0</td>\n",
       "      <td>0.0</td>\n",
       "      <td>60.000000</td>\n",
       "      <td>12.5</td>\n",
       "      <td>0.0</td>\n",
       "      <td>1850</td>\n",
       "      <td>43.357796</td>\n",
       "      <td>2.159744</td>\n",
       "      <td>0.022816</td>\n",
       "      <td>0.097462</td>\n",
       "      <td>-2.881803</td>\n",
       "      <td>2.804097</td>\n",
       "      <td>-2.420821</td>\n",
       "      <td>4385</td>\n",
       "      <td>1.0</td>\n",
       "    </tr>\n",
       "    <tr>\n",
       "      <th>1</th>\n",
       "      <td>40.0</td>\n",
       "      <td>1</td>\n",
       "      <td>2.0</td>\n",
       "      <td>0.0</td>\n",
       "      <td>0.0</td>\n",
       "      <td>150.557692</td>\n",
       "      <td>15.0</td>\n",
       "      <td>0.0</td>\n",
       "      <td>3600</td>\n",
       "      <td>45.305273</td>\n",
       "      <td>1.380657</td>\n",
       "      <td>0.026597</td>\n",
       "      <td>0.020582</td>\n",
       "      <td>-4.900482</td>\n",
       "      <td>2.096338</td>\n",
       "      <td>-1.030483</td>\n",
       "      <td>4757</td>\n",
       "      <td>4.0</td>\n",
       "    </tr>\n",
       "    <tr>\n",
       "      <th>2</th>\n",
       "      <td>115.0</td>\n",
       "      <td>15</td>\n",
       "      <td>1.0</td>\n",
       "      <td>0.0</td>\n",
       "      <td>0.0</td>\n",
       "      <td>163.000000</td>\n",
       "      <td>12.5</td>\n",
       "      <td>0.0</td>\n",
       "      <td>6222</td>\n",
       "      <td>45.978359</td>\n",
       "      <td>-0.998467</td>\n",
       "      <td>0.062173</td>\n",
       "      <td>0.027075</td>\n",
       "      <td>-4.846749</td>\n",
       "      <td>1.803559</td>\n",
       "      <td>1.565330</td>\n",
       "      <td>4382</td>\n",
       "      <td>2.0</td>\n",
       "    </tr>\n",
       "    <tr>\n",
       "      <th>3</th>\n",
       "      <td>109.0</td>\n",
       "      <td>10</td>\n",
       "      <td>0.0</td>\n",
       "      <td>0.0</td>\n",
       "      <td>1.0</td>\n",
       "      <td>193.000000</td>\n",
       "      <td>15.0</td>\n",
       "      <td>0.0</td>\n",
       "      <td>2400</td>\n",
       "      <td>45.687478</td>\n",
       "      <td>0.883600</td>\n",
       "      <td>0.033395</td>\n",
       "      <td>0.000000</td>\n",
       "      <td>-4.509599</td>\n",
       "      <td>1.285940</td>\n",
       "      <td>-0.501868</td>\n",
       "      <td>7125</td>\n",
       "      <td>0.0</td>\n",
       "    </tr>\n",
       "    <tr>\n",
       "      <th>4</th>\n",
       "      <td>110.0</td>\n",
       "      <td>5</td>\n",
       "      <td>1.0</td>\n",
       "      <td>0.0</td>\n",
       "      <td>0.0</td>\n",
       "      <td>68.000000</td>\n",
       "      <td>5.0</td>\n",
       "      <td>0.0</td>\n",
       "      <td>5200</td>\n",
       "      <td>44.383511</td>\n",
       "      <td>-1.571239</td>\n",
       "      <td>0.078819</td>\n",
       "      <td>0.121534</td>\n",
       "      <td>-1.896240</td>\n",
       "      <td>0.910783</td>\n",
       "      <td>0.931110</td>\n",
       "      <td>1531</td>\n",
       "      <td>6.0</td>\n",
       "    </tr>\n",
       "    <tr>\n",
       "      <th>5</th>\n",
       "      <td>24.0</td>\n",
       "      <td>10</td>\n",
       "      <td>0.0</td>\n",
       "      <td>1.0</td>\n",
       "      <td>0.0</td>\n",
       "      <td>109.000000</td>\n",
       "      <td>10.0</td>\n",
       "      <td>0.0</td>\n",
       "      <td>8000</td>\n",
       "      <td>46.323165</td>\n",
       "      <td>-1.727217</td>\n",
       "      <td>0.090922</td>\n",
       "      <td>0.048769</td>\n",
       "      <td>1.885526</td>\n",
       "      <td>-2.721943</td>\n",
       "      <td>2.457660</td>\n",
       "      <td>2482</td>\n",
       "      <td>3.0</td>\n",
       "    </tr>\n",
       "    <tr>\n",
       "      <th>6</th>\n",
       "      <td>13.0</td>\n",
       "      <td>4</td>\n",
       "      <td>0.0</td>\n",
       "      <td>0.0</td>\n",
       "      <td>1.0</td>\n",
       "      <td>150.000000</td>\n",
       "      <td>15.0</td>\n",
       "      <td>0.0</td>\n",
       "      <td>3500</td>\n",
       "      <td>46.104335</td>\n",
       "      <td>1.644606</td>\n",
       "      <td>0.025446</td>\n",
       "      <td>0.028174</td>\n",
       "      <td>-4.902200</td>\n",
       "      <td>1.610616</td>\n",
       "      <td>-0.834605</td>\n",
       "      <td>6185</td>\n",
       "      <td>3.0</td>\n",
       "    </tr>\n",
       "    <tr>\n",
       "      <th>7</th>\n",
       "      <td>26.0</td>\n",
       "      <td>14</td>\n",
       "      <td>1.0</td>\n",
       "      <td>0.0</td>\n",
       "      <td>0.0</td>\n",
       "      <td>101.000000</td>\n",
       "      <td>15.0</td>\n",
       "      <td>0.0</td>\n",
       "      <td>1000</td>\n",
       "      <td>42.255586</td>\n",
       "      <td>1.942673</td>\n",
       "      <td>0.039839</td>\n",
       "      <td>0.082413</td>\n",
       "      <td>3.693829</td>\n",
       "      <td>-0.245014</td>\n",
       "      <td>-2.192810</td>\n",
       "      <td>6108</td>\n",
       "      <td>4.0</td>\n",
       "    </tr>\n",
       "    <tr>\n",
       "      <th>8</th>\n",
       "      <td>19.0</td>\n",
       "      <td>1</td>\n",
       "      <td>2.0</td>\n",
       "      <td>1.0</td>\n",
       "      <td>1.0</td>\n",
       "      <td>179.000000</td>\n",
       "      <td>15.0</td>\n",
       "      <td>0.0</td>\n",
       "      <td>2850</td>\n",
       "      <td>46.084888</td>\n",
       "      <td>0.556575</td>\n",
       "      <td>0.039851</td>\n",
       "      <td>0.024388</td>\n",
       "      <td>-4.925234</td>\n",
       "      <td>1.587796</td>\n",
       "      <td>0.075348</td>\n",
       "      <td>4798</td>\n",
       "      <td>4.0</td>\n",
       "    </tr>\n",
       "    <tr>\n",
       "      <th>9</th>\n",
       "      <td>7.0</td>\n",
       "      <td>7</td>\n",
       "      <td>5.0</td>\n",
       "      <td>0.0</td>\n",
       "      <td>0.0</td>\n",
       "      <td>88.000000</td>\n",
       "      <td>15.0</td>\n",
       "      <td>0.0</td>\n",
       "      <td>650</td>\n",
       "      <td>43.074626</td>\n",
       "      <td>3.096861</td>\n",
       "      <td>0.010291</td>\n",
       "      <td>0.098727</td>\n",
       "      <td>-1.089584</td>\n",
       "      <td>0.600683</td>\n",
       "      <td>-4.186210</td>\n",
       "      <td>6666</td>\n",
       "      <td>0.0</td>\n",
       "    </tr>\n",
       "  </tbody>\n",
       "</table>\n",
       "</div>"
      ],
      "text/plain": [
       "   model  brand  bodyType  fuelType  gearbox       power  kilometer  \\\n",
       "0   30.0      6       1.0       0.0      0.0   60.000000       12.5   \n",
       "1   40.0      1       2.0       0.0      0.0  150.557692       15.0   \n",
       "2  115.0     15       1.0       0.0      0.0  163.000000       12.5   \n",
       "3  109.0     10       0.0       0.0      1.0  193.000000       15.0   \n",
       "4  110.0      5       1.0       0.0      0.0   68.000000        5.0   \n",
       "5   24.0     10       0.0       1.0      0.0  109.000000       10.0   \n",
       "6   13.0      4       0.0       0.0      1.0  150.000000       15.0   \n",
       "7   26.0     14       1.0       0.0      0.0  101.000000       15.0   \n",
       "8   19.0      1       2.0       1.0      1.0  179.000000       15.0   \n",
       "9    7.0      7       5.0       0.0      0.0   88.000000       15.0   \n",
       "\n",
       "   notRepairedDamage  price        v_0       v_3       v_8       v_9  \\\n",
       "0                0.0   1850  43.357796  2.159744  0.022816  0.097462   \n",
       "1                0.0   3600  45.305273  1.380657  0.026597  0.020582   \n",
       "2                0.0   6222  45.978359 -0.998467  0.062173  0.027075   \n",
       "3                0.0   2400  45.687478  0.883600  0.033395  0.000000   \n",
       "4                0.0   5200  44.383511 -1.571239  0.078819  0.121534   \n",
       "5                0.0   8000  46.323165 -1.727217  0.090922  0.048769   \n",
       "6                0.0   3500  46.104335  1.644606  0.025446  0.028174   \n",
       "7                0.0   1000  42.255586  1.942673  0.039839  0.082413   \n",
       "8                0.0   2850  46.084888  0.556575  0.039851  0.024388   \n",
       "9                0.0    650  43.074626  3.096861  0.010291  0.098727   \n",
       "\n",
       "       v_10      v_11      v_12   age  city  \n",
       "0 -2.881803  2.804097 -2.420821  4385   1.0  \n",
       "1 -4.900482  2.096338 -1.030483  4757   4.0  \n",
       "2 -4.846749  1.803559  1.565330  4382   2.0  \n",
       "3 -4.509599  1.285940 -0.501868  7125   0.0  \n",
       "4 -1.896240  0.910783  0.931110  1531   6.0  \n",
       "5  1.885526 -2.721943  2.457660  2482   3.0  \n",
       "6 -4.902200  1.610616 -0.834605  6185   3.0  \n",
       "7  3.693829 -0.245014 -2.192810  6108   4.0  \n",
       "8 -4.925234  1.587796  0.075348  4798   4.0  \n",
       "9 -1.089584  0.600683 -4.186210  6666   0.0  "
      ]
     },
     "execution_count": 63,
     "metadata": {},
     "output_type": "execute_result"
    }
   ],
   "source": [
    "# 最后大概看下有没有什么问题\n",
    "train.head(10)"
   ]
  },
  {
   "cell_type": "markdown",
   "metadata": {},
   "source": [
    "#### 3.1 匿名特征\n",
    "匿名特征经过筛选后还剩下v_0, v_3, v_8, v_9, v_10, v_11, v_12需要考虑。"
   ]
  },
  {
   "cell_type": "code",
   "execution_count": 64,
   "metadata": {},
   "outputs": [
    {
     "data": {
      "text/plain": [
       "Text(0.5, 1.0, 'Figure11: v_0 distribution')"
      ]
     },
     "execution_count": 64,
     "metadata": {},
     "output_type": "execute_result"
    },
    {
     "data": {
      "image/png": "[encoded data removed]",
      "text/plain": [
       "<Figure size 1080x720 with 1 Axes>"
      ]
     },
     "metadata": {
      "needs_background": "light"
     },
     "output_type": "display_data"
    }
   ],
   "source": [
    "# v_0\n",
    "plt.figure(figsize = (15,10))\n",
    "sns.histplot(x = train['v_0'], bins = 50).set_title('Figure11: v_0 distribution')"
   ]
  },
  {
   "cell_type": "markdown",
   "metadata": {},
   "source": [
    "v_0的分布比较接近正态，稍有左偏，无需进一步处理。"
   ]
  },
  {
   "cell_type": "code",
   "execution_count": 65,
   "metadata": {
    "scrolled": false
   },
   "outputs": [
    {
     "data": {
      "text/plain": [
       "Text(0.5, 1.0, 'Figure12: v_3 distribution')"
      ]
     },
     "execution_count": 65,
     "metadata": {},
     "output_type": "execute_result"
    },
    {
     "data": {
      "image/png": "[encoded data removed]",
      "text/plain": [
       "<Figure size 1080x720 with 1 Axes>"
      ]
     },
     "metadata": {
      "needs_background": "light"
     },
     "output_type": "display_data"
    }
   ],
   "source": [
    "# v_3\n",
    "plt.figure(figsize = (15,10))\n",
    "sns.histplot(x = train['v_3'], bins = 50).set_title('Figure12: v_3 distribution')"
   ]
  },
  {
   "cell_type": "markdown",
   "metadata": {},
   "source": [
    "v_3的分布接近正态，无需处理。"
   ]
  },
  {
   "cell_type": "code",
   "execution_count": 66,
   "metadata": {},
   "outputs": [
    {
     "data": {
      "text/plain": [
       "Text(0.5, 1.0, 'Figure13: v_8 distribution')"
      ]
     },
     "execution_count": 66,
     "metadata": {},
     "output_type": "execute_result"
    },
    {
     "data": {
      "image/png": "[encoded data removed]",
      "text/plain": [
       "<Figure size 1080x720 with 1 Axes>"
      ]
     },
     "metadata": {
      "needs_background": "light"
     },
     "output_type": "display_data"
    }
   ],
   "source": [
    "# v_8\n",
    "plt.figure(figsize = (15,10))\n",
    "sns.histplot(x = train['v_8'], bins = 50).set_title('Figure13: v_8 distribution')"
   ]
  },
  {
   "cell_type": "markdown",
   "metadata": {},
   "source": [
    "由上图可以看出v_8的分布基本满足正态化，不需要进行处理。"
   ]
  },
  {
   "cell_type": "code",
   "execution_count": 67,
   "metadata": {},
   "outputs": [
    {
     "data": {
      "text/plain": [
       "Text(0.5, 1.0, 'Figure14: v_10 distribution')"
      ]
     },
     "execution_count": 67,
     "metadata": {},
     "output_type": "execute_result"
    },
    {
     "data": {
      "image/png": "[encoded data removed]",
      "text/plain": [
       "<Figure size 1080x720 with 1 Axes>"
      ]
     },
     "metadata": {
      "needs_background": "light"
     },
     "output_type": "display_data"
    }
   ],
   "source": [
    "# v_10\n",
    "plt.figure(figsize = (15,10))\n",
    "sns.histplot(x = train['v_10'], bins = 50).set_title('Figure14: v_10 distribution')"
   ]
  },
  {
   "cell_type": "markdown",
   "metadata": {},
   "source": [
    "由上图可以看出v_11的分布有三个峰，且每一个部分都接近正态，不做处理。"
   ]
  },
  {
   "cell_type": "code",
   "execution_count": 69,
   "metadata": {
    "scrolled": false
   },
   "outputs": [
    {
     "data": {
      "text/plain": [
       "Text(0.5, 1.0, 'Figure15: v_11 distribution')"
      ]
     },
     "execution_count": 69,
     "metadata": {},
     "output_type": "execute_result"
    },
    {
     "data": {
      "image/png": "[encoded data removed]",
      "text/plain": [
       "<Figure size 1080x720 with 1 Axes>"
      ]
     },
     "metadata": {
      "needs_background": "light"
     },
     "output_type": "display_data"
    }
   ],
   "source": [
    "# v_11\n",
    "plt.figure(figsize = (15,10))\n",
    "sns.histplot(x = train['v_11'], bins = 50).set_title('Figure15: v_11 distribution')"
   ]
  },
  {
   "cell_type": "markdown",
   "metadata": {},
   "source": [
    "v_11也是接近正态，但右侧在15处的有较多聚集。不作处理。"
   ]
  },
  {
   "cell_type": "code",
   "execution_count": 70,
   "metadata": {},
   "outputs": [
    {
     "data": {
      "text/plain": [
       "Text(0.5, 1.0, 'Figure16: v_12 distribution')"
      ]
     },
     "execution_count": 70,
     "metadata": {},
     "output_type": "execute_result"
    },
    {
     "data": {
      "image/png": "[encoded data removed]",
      "text/plain": [
       "<Figure size 1080x720 with 1 Axes>"
      ]
     },
     "metadata": {
      "needs_background": "light"
     },
     "output_type": "display_data"
    }
   ],
   "source": [
    "# v_12\n",
    "plt.figure(figsize = (15,10))\n",
    "sns.histplot(x = train['v_12'], bins = 50).set_title('Figure16: v_12 distribution')"
   ]
  },
  {
   "cell_type": "markdown",
   "metadata": {},
   "source": [
    "v_12结果近似正态，不需要处理。"
   ]
  },
  {
   "cell_type": "markdown",
   "metadata": {},
   "source": [
    "#### 3.3 数据集划分"
   ]
  },
  {
   "cell_type": "code",
   "execution_count": 71,
   "metadata": {},
   "outputs": [],
   "source": [
    "train_price = train['price']\n",
    "train = train.drop(['price'],axis = 1)"
   ]
  },
  {
   "cell_type": "markdown",
   "metadata": {},
   "source": [
    "### 4 模型预测"
   ]
  },
  {
   "cell_type": "markdown",
   "metadata": {},
   "source": [
    "### 4.1 建模\n",
    "首先选择三个模型：随机森林、XGBoost、GBDT梯度提升树"
   ]
  },
  {
   "cell_type": "code",
   "execution_count": 72,
   "metadata": {},
   "outputs": [],
   "source": [
    "# 三个模型\n",
    "rf = RandomForestRegressor(n_estimators = 100, max_depth = 10, random_state = 1)\n",
    "xgb = XGBRegressor(n_estimators = 100, max_depth = 10, learning_rate = 0.1, random_state = 1)\n",
    "gbdt = GradientBoostingRegressor(subsample = 1, random_state = 1)\n",
    "\n",
    "x = train\n",
    "y = train_price"
   ]
  },
  {
   "cell_type": "code",
   "execution_count": 73,
   "metadata": {},
   "outputs": [
    {
     "name": "stdout",
     "output_type": "stream",
     "text": [
      "随机森林模型的平均MAE为：  802.0137468807492\n",
      "XGBoost模型的平均MAE为：  580.2789127514561\n",
      "GBDT梯度提升树模型的平均MAE为： 884.4403094095389\n"
     ]
    }
   ],
   "source": [
    "# 交叉验证\n",
    "score_rf = -1 * cross_val_score(rf, x, y, scoring = 'neg_mean_absolute_error', cv = 5,n_jobs = -1).mean()\n",
    "print('随机森林模型的平均MAE为： ', score_rf)\n",
    "\n",
    "# XGBoost\n",
    "score_xgb = -1 * cross_val_score(xgb, x, y, scoring = 'neg_mean_absolute_error', cv = 5,n_jobs = -1).mean()\n",
    "print('XGBoost模型的平均MAE为： ', score_xgb)\n",
    "\n",
    "# GBDT梯度提升树\n",
    "score_gbdt = -1 * cross_val_score(gbdt, x, y, scoring = 'neg_mean_absolute_error', cv = 5,n_jobs = -1).mean()\n",
    "print('GBDT梯度提升树模型的平均MAE为：', score_gbdt)"
   ]
  },
  {
   "cell_type": "markdown",
   "metadata": {},
   "source": [
    "发现效果最好的XGBoost是，使用网格搜索调参。\n",
    "\n",
    "下面的几个参数是我试了很多次使出来的比较适合的,\n",
    "\n",
    "* n_estimators:大点会更加好，但也不是越大越好，我试过50,100,150,250,500,750,1000 发现1000最好，后面就没有试了。\n",
    "\n",
    "* learning_rate：学习率太大太小都不好，我试了0.01, 0.04, 0.05,0.06,0.1,0.5,1 发现大概0.05最好。\n",
    "\n",
    "* subsample：采样率，小于1可以降低方差，但是会增加偏差，我试了0.5,0.8,1.0,1.2 发现0.8最好。\n",
    "\n",
    "* max_depth：树枝的最大深度，我设置了5，10，15，20 发现10最好。"
   ]
  },
  {
   "cell_type": "code",
   "execution_count": 75,
   "metadata": {
    "scrolled": true
   },
   "outputs": [
    {
     "name": "stdout",
     "output_type": "stream",
     "text": [
      "Fitting 3 folds for each of 3 candidates, totalling 9 fits\n"
     ]
    },
    {
     "name": "stderr",
     "output_type": "stream",
     "text": [
      "[Parallel(n_jobs=-1)]: Using backend LokyBackend with 6 concurrent workers.\n",
      "[Parallel(n_jobs=-1)]: Done   2 out of   9 | elapsed:   24.6s remaining:  1.4min\n",
      "[Parallel(n_jobs=-1)]: Done   3 out of   9 | elapsed:   24.7s remaining:   49.3s\n",
      "[Parallel(n_jobs=-1)]: Done   4 out of   9 | elapsed:   48.7s remaining:  1.0min\n",
      "[Parallel(n_jobs=-1)]: Done   5 out of   9 | elapsed:   48.9s remaining:   39.1s\n",
      "[Parallel(n_jobs=-1)]: Done   6 out of   9 | elapsed:   48.9s remaining:   24.5s\n",
      "[Parallel(n_jobs=-1)]: Done   7 out of   9 | elapsed:  6.7min remaining:  1.9min\n",
      "[Parallel(n_jobs=-1)]: Done   9 out of   9 | elapsed:  6.7min remaining:    0.0s\n",
      "[Parallel(n_jobs=-1)]: Done   9 out of   9 | elapsed:  6.7min finished\n"
     ]
    },
    {
     "name": "stdout",
     "output_type": "stream",
     "text": [
      "[10:18:30] WARNING: src/objective/regression_obj.cu:152: reg:linear is now deprecated in favor of reg:squarederror.\n",
      "最佳参数为：\n",
      " {'learning_rate': 0.05, 'max_depth': 10, 'n_estimators': 1000, 'subsample': 0.8}\n",
      "最佳分数为：\n",
      " -538.7542993950666\n",
      "最佳模型为：\n",
      " XGBRegressor(learning_rate=0.05, max_depth=10, n_estimators=1000,\n",
      "             random_state=1, subsample=0.8)\n"
     ]
    }
   ],
   "source": [
    "# 交叉验证\n",
    "# 注意，如果不想电脑全速运行的话，可以删掉n_jobs = -1，或者将-1改成你想调用的cpu线程数。\n",
    "params = {\n",
    "    'n_estimators': [50,100,1000],\n",
    "    'learning_rate': [0.05],\n",
    "    'subsample': [0.8],\n",
    "    'max_depth':[10]\n",
    "}\n",
    "\n",
    "model = GridSearchCV(estimator = xgb,\n",
    "                    param_grid = params,\n",
    "                    scoring = 'neg_mean_absolute_error',\n",
    "                    cv = 3,\n",
    "                     n_jobs = -1,\n",
    "                     verbose=10\n",
    "                    )\n",
    "\n",
    "model.fit(x, y)\n",
    "\n",
    "# 输出最佳参数\n",
    "print('最佳参数为：\\n', model.best_params_)\n",
    "print('最佳分数为：\\n', model.best_score_)\n",
    "print('最佳模型为：\\n', model.best_estimator_)"
   ]
  },
  {
   "cell_type": "markdown",
   "metadata": {},
   "source": [
    "### 5 提交结果"
   ]
  },
  {
   "cell_type": "code",
   "execution_count": 259,
   "metadata": {
    "scrolled": true
   },
   "outputs": [],
   "source": [
    "# 提交结果\n",
    "predictions = model.predict(testB)\n",
    "result = pd.DataFrame({'SaleID':testB_full['SaleID'], 'price':predictions})\n",
    "result.to_csv('./output/result_20201225_2.csv', index = False)"
   ]
  }
 ],
 "metadata": {
  "kernelspec": {
   "display_name": "Python 3",
   "language": "python",
   "name": "python3"
  },
  "language_info": {
   "codemirror_mode": {
    "name": "ipython",
    "version": 3
   },
   "file_extension": ".py",
   "mimetype": "text/x-python",
   "name": "python",
   "nbconvert_exporter": "python",
   "pygments_lexer": "ipython3",
   "version": "3.7.9"
  },
  "toc": {
   "base_numbering": 1,
   "nav_menu": {},
   "number_sections": false,
   "sideBar": true,
   "skip_h1_title": false,
   "title_cell": "Table of Contents",
   "title_sidebar": "Contents",
   "toc_cell": false,
   "toc_position": {
    "height": "calc(100% - 180px)",
    "left": "10px",
    "top": "150px",
    "width": "349.087px"
   },
   "toc_section_display": true,
   "toc_window_display": false
  }
 },
 "nbformat": 4,
 "nbformat_minor": 4
}
